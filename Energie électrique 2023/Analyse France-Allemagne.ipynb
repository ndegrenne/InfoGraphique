{
 "cells": [
  {
   "cell_type": "markdown",
   "id": "2b2d37ea",
   "metadata": {},
   "source": [
    "# Initialisation"
   ]
  },
  {
   "cell_type": "code",
   "execution_count": 2,
   "id": "076b24b9",
   "metadata": {},
   "outputs": [],
   "source": [
    "import pandas as pd\n",
    "import numpy as np \n",
    "import math\n",
    "import matplotlib.pyplot as plt"
   ]
  },
  {
   "cell_type": "code",
   "execution_count": 3,
   "id": "2147e3d2",
   "metadata": {},
   "outputs": [],
   "source": [
    "df = pd.DataFrame(columns = [\"France\",\"Allemagne (+LU)\"],\n",
    "    index=[\"Consommation totale [GWh]\",\n",
    "           \"Consommation totale par habitant [kWh]\",\n",
    "           \"Production totale [GWh]\",\n",
    "           \"Production totale par habitant [kWh]\",\n",
    "           \"Temps en sous-production [%]\",\n",
    "           \"Temps en sous-production si que renouvelables [%]\", \n",
    "           \"Augmentation necessaire des renouvelables solaires et éoliennes pour un temps en sous-production <10% en exclusivement renouvelable [%]\",\n",
    "           \"Augmentation necessaire des renouvelables solaires et éoliennes pour un temps en sous-production <10% en exclusivement renouvelable - consommation de -10% en cas de sous-production [%]\",\n",
    "           \"Augmentation necessaire des renouvelables solaires et éoliennes pour un temps en sous-production <10% en exclusivement renouvelable - stockage zero pertes de 100W, 1000Wh /hab [%]\",\n",
    "           \"Augmentation necessaire des renouvelables solaires et éoliennes pour un temps en sous-production <10% en exclusivement renouvelable - consommation de -10% en cas de sous-production et stockage zero pertes 100W, 1000Wh /hab [%]\"])\n",
    "#df"
   ]
  },
  {
   "cell_type": "code",
   "execution_count": 4,
   "id": "05de060f",
   "metadata": {},
   "outputs": [],
   "source": [
    "LoadFR = pd.read_csv(\"Total Load - Day Ahead _ Actual_202301010000-202401010000 FR.csv\")\n",
    "#LoadFR"
   ]
  },
  {
   "cell_type": "code",
   "execution_count": 5,
   "id": "a5710ca4",
   "metadata": {},
   "outputs": [],
   "source": [
    "LoadDE = pd.read_csv(\"Total Load - Day Ahead _ Actual_202301010000-202401010000 DE.csv\")\n",
    "#LoadDE"
   ]
  },
  {
   "cell_type": "code",
   "execution_count": 6,
   "id": "7498edd3",
   "metadata": {},
   "outputs": [],
   "source": [
    "ProdFR = pd.read_csv(\"Actual Generation per Production Type_202301010000-202401010000 FR.csv\")\n",
    "#ProdFR"
   ]
  },
  {
   "cell_type": "code",
   "execution_count": 7,
   "id": "85d003e5",
   "metadata": {},
   "outputs": [],
   "source": [
    "ProdDE = pd.read_csv(\"Actual Generation per Production Type_202301010000-202401010000 DE.csv\")\n",
    "#ProdDE"
   ]
  },
  {
   "cell_type": "markdown",
   "id": "82fd1901",
   "metadata": {},
   "source": [
    "# Analyse des consommations totales"
   ]
  },
  {
   "cell_type": "code",
   "execution_count": 8,
   "id": "50d33340",
   "metadata": {},
   "outputs": [
    {
     "name": "stdout",
     "output_type": "stream",
     "text": [
      "425428935.0\n"
     ]
    }
   ],
   "source": [
    "TotalConsFR = LoadFR['Actual Total Load [MW] - BZN|FR'].sum()\n",
    "print(TotalConsFR)"
   ]
  },
  {
   "cell_type": "code",
   "execution_count": 9,
   "id": "1691ec19",
   "metadata": {},
   "outputs": [
    {
     "data": {
      "text/html": [
       "<div>\n",
       "<style scoped>\n",
       "    .dataframe tbody tr th:only-of-type {\n",
       "        vertical-align: middle;\n",
       "    }\n",
       "\n",
       "    .dataframe tbody tr th {\n",
       "        vertical-align: top;\n",
       "    }\n",
       "\n",
       "    .dataframe thead th {\n",
       "        text-align: right;\n",
       "    }\n",
       "</style>\n",
       "<table border=\"1\" class=\"dataframe\">\n",
       "  <thead>\n",
       "    <tr style=\"text-align: right;\">\n",
       "      <th></th>\n",
       "      <th>France</th>\n",
       "      <th>Allemagne (+LU)</th>\n",
       "    </tr>\n",
       "  </thead>\n",
       "  <tbody>\n",
       "    <tr>\n",
       "      <th>Consommation totale [GWh]</th>\n",
       "      <td>425429.0</td>\n",
       "      <td>NaN</td>\n",
       "    </tr>\n",
       "    <tr>\n",
       "      <th>Consommation totale par habitant [kWh]</th>\n",
       "      <td>NaN</td>\n",
       "      <td>NaN</td>\n",
       "    </tr>\n",
       "    <tr>\n",
       "      <th>Production totale [GWh]</th>\n",
       "      <td>NaN</td>\n",
       "      <td>NaN</td>\n",
       "    </tr>\n",
       "    <tr>\n",
       "      <th>Production totale par habitant [kWh]</th>\n",
       "      <td>NaN</td>\n",
       "      <td>NaN</td>\n",
       "    </tr>\n",
       "    <tr>\n",
       "      <th>Temps en sous-production [%]</th>\n",
       "      <td>NaN</td>\n",
       "      <td>NaN</td>\n",
       "    </tr>\n",
       "    <tr>\n",
       "      <th>Temps en sous-production si que renouvelables [%]</th>\n",
       "      <td>NaN</td>\n",
       "      <td>NaN</td>\n",
       "    </tr>\n",
       "    <tr>\n",
       "      <th>Augmentation necessaire des renouvelables solaires et éoliennes pour un temps en sous-production &lt;10% en exclusivement renouvelable [%]</th>\n",
       "      <td>NaN</td>\n",
       "      <td>NaN</td>\n",
       "    </tr>\n",
       "    <tr>\n",
       "      <th>Augmentation necessaire des renouvelables solaires et éoliennes pour un temps en sous-production &lt;10% en exclusivement renouvelable - consommation de -10% en cas de sous-production [%]</th>\n",
       "      <td>NaN</td>\n",
       "      <td>NaN</td>\n",
       "    </tr>\n",
       "    <tr>\n",
       "      <th>Augmentation necessaire des renouvelables solaires et éoliennes pour un temps en sous-production &lt;10% en exclusivement renouvelable - stockage zero pertes de 100W, 1000Wh /hab [%]</th>\n",
       "      <td>NaN</td>\n",
       "      <td>NaN</td>\n",
       "    </tr>\n",
       "    <tr>\n",
       "      <th>Augmentation necessaire des renouvelables solaires et éoliennes pour un temps en sous-production &lt;10% en exclusivement renouvelable - consommation de -10% en cas de sous-production et stockage zero pertes 100W, 1000Wh /hab [%]</th>\n",
       "      <td>NaN</td>\n",
       "      <td>NaN</td>\n",
       "    </tr>\n",
       "  </tbody>\n",
       "</table>\n",
       "</div>"
      ],
      "text/plain": [
       "                                                      France Allemagne (+LU)\n",
       "Consommation totale [GWh]                           425429.0             NaN\n",
       "Consommation totale par habitant [kWh]                   NaN             NaN\n",
       "Production totale [GWh]                                  NaN             NaN\n",
       "Production totale par habitant [kWh]                     NaN             NaN\n",
       "Temps en sous-production [%]                             NaN             NaN\n",
       "Temps en sous-production si que renouvelables [%]        NaN             NaN\n",
       "Augmentation necessaire des renouvelables solai...       NaN             NaN\n",
       "Augmentation necessaire des renouvelables solai...       NaN             NaN\n",
       "Augmentation necessaire des renouvelables solai...       NaN             NaN\n",
       "Augmentation necessaire des renouvelables solai...       NaN             NaN"
      ]
     },
     "execution_count": 9,
     "metadata": {},
     "output_type": "execute_result"
    }
   ],
   "source": [
    "df ['France'][0]=round(TotalConsFR/1000,0)\n",
    "df"
   ]
  },
  {
   "cell_type": "code",
   "execution_count": 10,
   "id": "dc5638bd",
   "metadata": {},
   "outputs": [
    {
     "name": "stdout",
     "output_type": "stream",
     "text": [
      "461810723.0\n"
     ]
    }
   ],
   "source": [
    "TotalConsDE = LoadDE['Actual Total Load [MW] - BZN|DE-LU'].sum()/4\n",
    "print(TotalConsDE)"
   ]
  },
  {
   "cell_type": "code",
   "execution_count": 11,
   "id": "ebbeeb41",
   "metadata": {},
   "outputs": [
    {
     "data": {
      "text/html": [
       "<div>\n",
       "<style scoped>\n",
       "    .dataframe tbody tr th:only-of-type {\n",
       "        vertical-align: middle;\n",
       "    }\n",
       "\n",
       "    .dataframe tbody tr th {\n",
       "        vertical-align: top;\n",
       "    }\n",
       "\n",
       "    .dataframe thead th {\n",
       "        text-align: right;\n",
       "    }\n",
       "</style>\n",
       "<table border=\"1\" class=\"dataframe\">\n",
       "  <thead>\n",
       "    <tr style=\"text-align: right;\">\n",
       "      <th></th>\n",
       "      <th>France</th>\n",
       "      <th>Allemagne (+LU)</th>\n",
       "    </tr>\n",
       "  </thead>\n",
       "  <tbody>\n",
       "    <tr>\n",
       "      <th>Consommation totale [GWh]</th>\n",
       "      <td>425429.0</td>\n",
       "      <td>461811.0</td>\n",
       "    </tr>\n",
       "    <tr>\n",
       "      <th>Consommation totale par habitant [kWh]</th>\n",
       "      <td>NaN</td>\n",
       "      <td>NaN</td>\n",
       "    </tr>\n",
       "    <tr>\n",
       "      <th>Production totale [GWh]</th>\n",
       "      <td>NaN</td>\n",
       "      <td>NaN</td>\n",
       "    </tr>\n",
       "    <tr>\n",
       "      <th>Production totale par habitant [kWh]</th>\n",
       "      <td>NaN</td>\n",
       "      <td>NaN</td>\n",
       "    </tr>\n",
       "    <tr>\n",
       "      <th>Temps en sous-production [%]</th>\n",
       "      <td>NaN</td>\n",
       "      <td>NaN</td>\n",
       "    </tr>\n",
       "    <tr>\n",
       "      <th>Temps en sous-production si que renouvelables [%]</th>\n",
       "      <td>NaN</td>\n",
       "      <td>NaN</td>\n",
       "    </tr>\n",
       "    <tr>\n",
       "      <th>Augmentation necessaire des renouvelables solaires et éoliennes pour un temps en sous-production &lt;10% en exclusivement renouvelable [%]</th>\n",
       "      <td>NaN</td>\n",
       "      <td>NaN</td>\n",
       "    </tr>\n",
       "    <tr>\n",
       "      <th>Augmentation necessaire des renouvelables solaires et éoliennes pour un temps en sous-production &lt;10% en exclusivement renouvelable - consommation de -10% en cas de sous-production [%]</th>\n",
       "      <td>NaN</td>\n",
       "      <td>NaN</td>\n",
       "    </tr>\n",
       "    <tr>\n",
       "      <th>Augmentation necessaire des renouvelables solaires et éoliennes pour un temps en sous-production &lt;10% en exclusivement renouvelable - stockage zero pertes de 100W, 1000Wh /hab [%]</th>\n",
       "      <td>NaN</td>\n",
       "      <td>NaN</td>\n",
       "    </tr>\n",
       "    <tr>\n",
       "      <th>Augmentation necessaire des renouvelables solaires et éoliennes pour un temps en sous-production &lt;10% en exclusivement renouvelable - consommation de -10% en cas de sous-production et stockage zero pertes 100W, 1000Wh /hab [%]</th>\n",
       "      <td>NaN</td>\n",
       "      <td>NaN</td>\n",
       "    </tr>\n",
       "  </tbody>\n",
       "</table>\n",
       "</div>"
      ],
      "text/plain": [
       "                                                      France Allemagne (+LU)\n",
       "Consommation totale [GWh]                           425429.0        461811.0\n",
       "Consommation totale par habitant [kWh]                   NaN             NaN\n",
       "Production totale [GWh]                                  NaN             NaN\n",
       "Production totale par habitant [kWh]                     NaN             NaN\n",
       "Temps en sous-production [%]                             NaN             NaN\n",
       "Temps en sous-production si que renouvelables [%]        NaN             NaN\n",
       "Augmentation necessaire des renouvelables solai...       NaN             NaN\n",
       "Augmentation necessaire des renouvelables solai...       NaN             NaN\n",
       "Augmentation necessaire des renouvelables solai...       NaN             NaN\n",
       "Augmentation necessaire des renouvelables solai...       NaN             NaN"
      ]
     },
     "execution_count": 11,
     "metadata": {},
     "output_type": "execute_result"
    }
   ],
   "source": [
    "df ['Allemagne (+LU)'][0]=round(TotalConsDE/1000,0)\n",
    "df"
   ]
  },
  {
   "cell_type": "code",
   "execution_count": 12,
   "id": "950dd55b",
   "metadata": {},
   "outputs": [],
   "source": [
    "habDE=83.2e6+0.640e6\n",
    "habFR=67.75e6"
   ]
  },
  {
   "cell_type": "code",
   "execution_count": 13,
   "id": "901c669e",
   "metadata": {},
   "outputs": [
    {
     "data": {
      "text/html": [
       "<div>\n",
       "<style scoped>\n",
       "    .dataframe tbody tr th:only-of-type {\n",
       "        vertical-align: middle;\n",
       "    }\n",
       "\n",
       "    .dataframe tbody tr th {\n",
       "        vertical-align: top;\n",
       "    }\n",
       "\n",
       "    .dataframe thead th {\n",
       "        text-align: right;\n",
       "    }\n",
       "</style>\n",
       "<table border=\"1\" class=\"dataframe\">\n",
       "  <thead>\n",
       "    <tr style=\"text-align: right;\">\n",
       "      <th></th>\n",
       "      <th>France</th>\n",
       "      <th>Allemagne (+LU)</th>\n",
       "    </tr>\n",
       "  </thead>\n",
       "  <tbody>\n",
       "    <tr>\n",
       "      <th>Consommation totale [GWh]</th>\n",
       "      <td>425429.0</td>\n",
       "      <td>461811.0</td>\n",
       "    </tr>\n",
       "    <tr>\n",
       "      <th>Consommation totale par habitant [kWh]</th>\n",
       "      <td>NaN</td>\n",
       "      <td>5508.0</td>\n",
       "    </tr>\n",
       "    <tr>\n",
       "      <th>Production totale [GWh]</th>\n",
       "      <td>NaN</td>\n",
       "      <td>NaN</td>\n",
       "    </tr>\n",
       "    <tr>\n",
       "      <th>Production totale par habitant [kWh]</th>\n",
       "      <td>NaN</td>\n",
       "      <td>NaN</td>\n",
       "    </tr>\n",
       "    <tr>\n",
       "      <th>Temps en sous-production [%]</th>\n",
       "      <td>NaN</td>\n",
       "      <td>NaN</td>\n",
       "    </tr>\n",
       "    <tr>\n",
       "      <th>Temps en sous-production si que renouvelables [%]</th>\n",
       "      <td>NaN</td>\n",
       "      <td>NaN</td>\n",
       "    </tr>\n",
       "    <tr>\n",
       "      <th>Augmentation necessaire des renouvelables solaires et éoliennes pour un temps en sous-production &lt;10% en exclusivement renouvelable [%]</th>\n",
       "      <td>NaN</td>\n",
       "      <td>NaN</td>\n",
       "    </tr>\n",
       "    <tr>\n",
       "      <th>Augmentation necessaire des renouvelables solaires et éoliennes pour un temps en sous-production &lt;10% en exclusivement renouvelable - consommation de -10% en cas de sous-production [%]</th>\n",
       "      <td>NaN</td>\n",
       "      <td>NaN</td>\n",
       "    </tr>\n",
       "    <tr>\n",
       "      <th>Augmentation necessaire des renouvelables solaires et éoliennes pour un temps en sous-production &lt;10% en exclusivement renouvelable - stockage zero pertes de 100W, 1000Wh /hab [%]</th>\n",
       "      <td>NaN</td>\n",
       "      <td>NaN</td>\n",
       "    </tr>\n",
       "    <tr>\n",
       "      <th>Augmentation necessaire des renouvelables solaires et éoliennes pour un temps en sous-production &lt;10% en exclusivement renouvelable - consommation de -10% en cas de sous-production et stockage zero pertes 100W, 1000Wh /hab [%]</th>\n",
       "      <td>NaN</td>\n",
       "      <td>NaN</td>\n",
       "    </tr>\n",
       "  </tbody>\n",
       "</table>\n",
       "</div>"
      ],
      "text/plain": [
       "                                                      France Allemagne (+LU)\n",
       "Consommation totale [GWh]                           425429.0        461811.0\n",
       "Consommation totale par habitant [kWh]                   NaN          5508.0\n",
       "Production totale [GWh]                                  NaN             NaN\n",
       "Production totale par habitant [kWh]                     NaN             NaN\n",
       "Temps en sous-production [%]                             NaN             NaN\n",
       "Temps en sous-production si que renouvelables [%]        NaN             NaN\n",
       "Augmentation necessaire des renouvelables solai...       NaN             NaN\n",
       "Augmentation necessaire des renouvelables solai...       NaN             NaN\n",
       "Augmentation necessaire des renouvelables solai...       NaN             NaN\n",
       "Augmentation necessaire des renouvelables solai...       NaN             NaN"
      ]
     },
     "execution_count": 13,
     "metadata": {},
     "output_type": "execute_result"
    }
   ],
   "source": [
    "df ['Allemagne (+LU)'][1]=round(TotalConsDE*1000/habDE,0)\n",
    "df"
   ]
  },
  {
   "cell_type": "code",
   "execution_count": 14,
   "id": "db3632b1",
   "metadata": {},
   "outputs": [
    {
     "data": {
      "text/html": [
       "<div>\n",
       "<style scoped>\n",
       "    .dataframe tbody tr th:only-of-type {\n",
       "        vertical-align: middle;\n",
       "    }\n",
       "\n",
       "    .dataframe tbody tr th {\n",
       "        vertical-align: top;\n",
       "    }\n",
       "\n",
       "    .dataframe thead th {\n",
       "        text-align: right;\n",
       "    }\n",
       "</style>\n",
       "<table border=\"1\" class=\"dataframe\">\n",
       "  <thead>\n",
       "    <tr style=\"text-align: right;\">\n",
       "      <th></th>\n",
       "      <th>France</th>\n",
       "      <th>Allemagne (+LU)</th>\n",
       "    </tr>\n",
       "  </thead>\n",
       "  <tbody>\n",
       "    <tr>\n",
       "      <th>Consommation totale [GWh]</th>\n",
       "      <td>425429.0</td>\n",
       "      <td>461811.0</td>\n",
       "    </tr>\n",
       "    <tr>\n",
       "      <th>Consommation totale par habitant [kWh]</th>\n",
       "      <td>6279.0</td>\n",
       "      <td>5508.0</td>\n",
       "    </tr>\n",
       "    <tr>\n",
       "      <th>Production totale [GWh]</th>\n",
       "      <td>NaN</td>\n",
       "      <td>NaN</td>\n",
       "    </tr>\n",
       "    <tr>\n",
       "      <th>Production totale par habitant [kWh]</th>\n",
       "      <td>NaN</td>\n",
       "      <td>NaN</td>\n",
       "    </tr>\n",
       "    <tr>\n",
       "      <th>Temps en sous-production [%]</th>\n",
       "      <td>NaN</td>\n",
       "      <td>NaN</td>\n",
       "    </tr>\n",
       "    <tr>\n",
       "      <th>Temps en sous-production si que renouvelables [%]</th>\n",
       "      <td>NaN</td>\n",
       "      <td>NaN</td>\n",
       "    </tr>\n",
       "    <tr>\n",
       "      <th>Augmentation necessaire des renouvelables solaires et éoliennes pour un temps en sous-production &lt;10% en exclusivement renouvelable [%]</th>\n",
       "      <td>NaN</td>\n",
       "      <td>NaN</td>\n",
       "    </tr>\n",
       "    <tr>\n",
       "      <th>Augmentation necessaire des renouvelables solaires et éoliennes pour un temps en sous-production &lt;10% en exclusivement renouvelable - consommation de -10% en cas de sous-production [%]</th>\n",
       "      <td>NaN</td>\n",
       "      <td>NaN</td>\n",
       "    </tr>\n",
       "    <tr>\n",
       "      <th>Augmentation necessaire des renouvelables solaires et éoliennes pour un temps en sous-production &lt;10% en exclusivement renouvelable - stockage zero pertes de 100W, 1000Wh /hab [%]</th>\n",
       "      <td>NaN</td>\n",
       "      <td>NaN</td>\n",
       "    </tr>\n",
       "    <tr>\n",
       "      <th>Augmentation necessaire des renouvelables solaires et éoliennes pour un temps en sous-production &lt;10% en exclusivement renouvelable - consommation de -10% en cas de sous-production et stockage zero pertes 100W, 1000Wh /hab [%]</th>\n",
       "      <td>NaN</td>\n",
       "      <td>NaN</td>\n",
       "    </tr>\n",
       "  </tbody>\n",
       "</table>\n",
       "</div>"
      ],
      "text/plain": [
       "                                                      France Allemagne (+LU)\n",
       "Consommation totale [GWh]                           425429.0        461811.0\n",
       "Consommation totale par habitant [kWh]                6279.0          5508.0\n",
       "Production totale [GWh]                                  NaN             NaN\n",
       "Production totale par habitant [kWh]                     NaN             NaN\n",
       "Temps en sous-production [%]                             NaN             NaN\n",
       "Temps en sous-production si que renouvelables [%]        NaN             NaN\n",
       "Augmentation necessaire des renouvelables solai...       NaN             NaN\n",
       "Augmentation necessaire des renouvelables solai...       NaN             NaN\n",
       "Augmentation necessaire des renouvelables solai...       NaN             NaN\n",
       "Augmentation necessaire des renouvelables solai...       NaN             NaN"
      ]
     },
     "execution_count": 14,
     "metadata": {},
     "output_type": "execute_result"
    }
   ],
   "source": [
    "df ['France'][1]=round(TotalConsFR*1000/habFR,0)\n",
    "df"
   ]
  },
  {
   "cell_type": "markdown",
   "id": "9cc17112",
   "metadata": {},
   "source": [
    "# Analyse des productions totales"
   ]
  },
  {
   "cell_type": "code",
   "execution_count": 15,
   "id": "effbbb83",
   "metadata": {},
   "outputs": [],
   "source": [
    "SubTotalProdFR = ProdFR.sum(numeric_only = True)\n",
    "#print(SubTotalProdFR)"
   ]
  },
  {
   "cell_type": "code",
   "execution_count": 16,
   "id": "ba7a25c9",
   "metadata": {},
   "outputs": [],
   "source": [
    "TotalProdFR=SubTotalProdFR.sum()\n",
    "#print(TotalProdFR)"
   ]
  },
  {
   "cell_type": "code",
   "execution_count": 17,
   "id": "b0014836",
   "metadata": {},
   "outputs": [
    {
     "data": {
      "text/html": [
       "<div>\n",
       "<style scoped>\n",
       "    .dataframe tbody tr th:only-of-type {\n",
       "        vertical-align: middle;\n",
       "    }\n",
       "\n",
       "    .dataframe tbody tr th {\n",
       "        vertical-align: top;\n",
       "    }\n",
       "\n",
       "    .dataframe thead th {\n",
       "        text-align: right;\n",
       "    }\n",
       "</style>\n",
       "<table border=\"1\" class=\"dataframe\">\n",
       "  <thead>\n",
       "    <tr style=\"text-align: right;\">\n",
       "      <th></th>\n",
       "      <th>France</th>\n",
       "      <th>Allemagne (+LU)</th>\n",
       "    </tr>\n",
       "  </thead>\n",
       "  <tbody>\n",
       "    <tr>\n",
       "      <th>Consommation totale [GWh]</th>\n",
       "      <td>425429.0</td>\n",
       "      <td>461811.0</td>\n",
       "    </tr>\n",
       "    <tr>\n",
       "      <th>Consommation totale par habitant [kWh]</th>\n",
       "      <td>6279.0</td>\n",
       "      <td>5508.0</td>\n",
       "    </tr>\n",
       "    <tr>\n",
       "      <th>Production totale [GWh]</th>\n",
       "      <td>481831.0</td>\n",
       "      <td>NaN</td>\n",
       "    </tr>\n",
       "    <tr>\n",
       "      <th>Production totale par habitant [kWh]</th>\n",
       "      <td>NaN</td>\n",
       "      <td>NaN</td>\n",
       "    </tr>\n",
       "    <tr>\n",
       "      <th>Temps en sous-production [%]</th>\n",
       "      <td>NaN</td>\n",
       "      <td>NaN</td>\n",
       "    </tr>\n",
       "    <tr>\n",
       "      <th>Temps en sous-production si que renouvelables [%]</th>\n",
       "      <td>NaN</td>\n",
       "      <td>NaN</td>\n",
       "    </tr>\n",
       "    <tr>\n",
       "      <th>Augmentation necessaire des renouvelables solaires et éoliennes pour un temps en sous-production &lt;10% en exclusivement renouvelable [%]</th>\n",
       "      <td>NaN</td>\n",
       "      <td>NaN</td>\n",
       "    </tr>\n",
       "    <tr>\n",
       "      <th>Augmentation necessaire des renouvelables solaires et éoliennes pour un temps en sous-production &lt;10% en exclusivement renouvelable - consommation de -10% en cas de sous-production [%]</th>\n",
       "      <td>NaN</td>\n",
       "      <td>NaN</td>\n",
       "    </tr>\n",
       "    <tr>\n",
       "      <th>Augmentation necessaire des renouvelables solaires et éoliennes pour un temps en sous-production &lt;10% en exclusivement renouvelable - stockage zero pertes de 100W, 1000Wh /hab [%]</th>\n",
       "      <td>NaN</td>\n",
       "      <td>NaN</td>\n",
       "    </tr>\n",
       "    <tr>\n",
       "      <th>Augmentation necessaire des renouvelables solaires et éoliennes pour un temps en sous-production &lt;10% en exclusivement renouvelable - consommation de -10% en cas de sous-production et stockage zero pertes 100W, 1000Wh /hab [%]</th>\n",
       "      <td>NaN</td>\n",
       "      <td>NaN</td>\n",
       "    </tr>\n",
       "  </tbody>\n",
       "</table>\n",
       "</div>"
      ],
      "text/plain": [
       "                                                      France Allemagne (+LU)\n",
       "Consommation totale [GWh]                           425429.0        461811.0\n",
       "Consommation totale par habitant [kWh]                6279.0          5508.0\n",
       "Production totale [GWh]                             481831.0             NaN\n",
       "Production totale par habitant [kWh]                     NaN             NaN\n",
       "Temps en sous-production [%]                             NaN             NaN\n",
       "Temps en sous-production si que renouvelables [%]        NaN             NaN\n",
       "Augmentation necessaire des renouvelables solai...       NaN             NaN\n",
       "Augmentation necessaire des renouvelables solai...       NaN             NaN\n",
       "Augmentation necessaire des renouvelables solai...       NaN             NaN\n",
       "Augmentation necessaire des renouvelables solai...       NaN             NaN"
      ]
     },
     "execution_count": 17,
     "metadata": {},
     "output_type": "execute_result"
    }
   ],
   "source": [
    "df ['France'][2]=round(TotalProdFR/1000,0)\n",
    "df"
   ]
  },
  {
   "cell_type": "code",
   "execution_count": 18,
   "id": "cd3ae863",
   "metadata": {},
   "outputs": [],
   "source": [
    "SubTotalProdDE = ProdDE.sum(numeric_only = True)/4\n",
    "#print(SubTotalProdDE)"
   ]
  },
  {
   "cell_type": "code",
   "execution_count": 19,
   "id": "5628f4a4",
   "metadata": {},
   "outputs": [],
   "source": [
    "TotalProdDE=SubTotalProdDE.sum()\n",
    "#print(TotalProdDE)"
   ]
  },
  {
   "cell_type": "code",
   "execution_count": 20,
   "id": "308572b4",
   "metadata": {},
   "outputs": [
    {
     "data": {
      "text/html": [
       "<div>\n",
       "<style scoped>\n",
       "    .dataframe tbody tr th:only-of-type {\n",
       "        vertical-align: middle;\n",
       "    }\n",
       "\n",
       "    .dataframe tbody tr th {\n",
       "        vertical-align: top;\n",
       "    }\n",
       "\n",
       "    .dataframe thead th {\n",
       "        text-align: right;\n",
       "    }\n",
       "</style>\n",
       "<table border=\"1\" class=\"dataframe\">\n",
       "  <thead>\n",
       "    <tr style=\"text-align: right;\">\n",
       "      <th></th>\n",
       "      <th>France</th>\n",
       "      <th>Allemagne (+LU)</th>\n",
       "    </tr>\n",
       "  </thead>\n",
       "  <tbody>\n",
       "    <tr>\n",
       "      <th>Consommation totale [GWh]</th>\n",
       "      <td>425429.0</td>\n",
       "      <td>461811.0</td>\n",
       "    </tr>\n",
       "    <tr>\n",
       "      <th>Consommation totale par habitant [kWh]</th>\n",
       "      <td>6279.0</td>\n",
       "      <td>5508.0</td>\n",
       "    </tr>\n",
       "    <tr>\n",
       "      <th>Production totale [GWh]</th>\n",
       "      <td>481831.0</td>\n",
       "      <td>463628.0</td>\n",
       "    </tr>\n",
       "    <tr>\n",
       "      <th>Production totale par habitant [kWh]</th>\n",
       "      <td>NaN</td>\n",
       "      <td>NaN</td>\n",
       "    </tr>\n",
       "    <tr>\n",
       "      <th>Temps en sous-production [%]</th>\n",
       "      <td>NaN</td>\n",
       "      <td>NaN</td>\n",
       "    </tr>\n",
       "    <tr>\n",
       "      <th>Temps en sous-production si que renouvelables [%]</th>\n",
       "      <td>NaN</td>\n",
       "      <td>NaN</td>\n",
       "    </tr>\n",
       "    <tr>\n",
       "      <th>Augmentation necessaire des renouvelables solaires et éoliennes pour un temps en sous-production &lt;10% en exclusivement renouvelable [%]</th>\n",
       "      <td>NaN</td>\n",
       "      <td>NaN</td>\n",
       "    </tr>\n",
       "    <tr>\n",
       "      <th>Augmentation necessaire des renouvelables solaires et éoliennes pour un temps en sous-production &lt;10% en exclusivement renouvelable - consommation de -10% en cas de sous-production [%]</th>\n",
       "      <td>NaN</td>\n",
       "      <td>NaN</td>\n",
       "    </tr>\n",
       "    <tr>\n",
       "      <th>Augmentation necessaire des renouvelables solaires et éoliennes pour un temps en sous-production &lt;10% en exclusivement renouvelable - stockage zero pertes de 100W, 1000Wh /hab [%]</th>\n",
       "      <td>NaN</td>\n",
       "      <td>NaN</td>\n",
       "    </tr>\n",
       "    <tr>\n",
       "      <th>Augmentation necessaire des renouvelables solaires et éoliennes pour un temps en sous-production &lt;10% en exclusivement renouvelable - consommation de -10% en cas de sous-production et stockage zero pertes 100W, 1000Wh /hab [%]</th>\n",
       "      <td>NaN</td>\n",
       "      <td>NaN</td>\n",
       "    </tr>\n",
       "  </tbody>\n",
       "</table>\n",
       "</div>"
      ],
      "text/plain": [
       "                                                      France Allemagne (+LU)\n",
       "Consommation totale [GWh]                           425429.0        461811.0\n",
       "Consommation totale par habitant [kWh]                6279.0          5508.0\n",
       "Production totale [GWh]                             481831.0        463628.0\n",
       "Production totale par habitant [kWh]                     NaN             NaN\n",
       "Temps en sous-production [%]                             NaN             NaN\n",
       "Temps en sous-production si que renouvelables [%]        NaN             NaN\n",
       "Augmentation necessaire des renouvelables solai...       NaN             NaN\n",
       "Augmentation necessaire des renouvelables solai...       NaN             NaN\n",
       "Augmentation necessaire des renouvelables solai...       NaN             NaN\n",
       "Augmentation necessaire des renouvelables solai...       NaN             NaN"
      ]
     },
     "execution_count": 20,
     "metadata": {},
     "output_type": "execute_result"
    }
   ],
   "source": [
    "df ['Allemagne (+LU)'][2]=round(TotalProdDE/1000,0)\n",
    "df"
   ]
  },
  {
   "cell_type": "code",
   "execution_count": 21,
   "id": "2ba371a0",
   "metadata": {},
   "outputs": [
    {
     "data": {
      "text/html": [
       "<div>\n",
       "<style scoped>\n",
       "    .dataframe tbody tr th:only-of-type {\n",
       "        vertical-align: middle;\n",
       "    }\n",
       "\n",
       "    .dataframe tbody tr th {\n",
       "        vertical-align: top;\n",
       "    }\n",
       "\n",
       "    .dataframe thead th {\n",
       "        text-align: right;\n",
       "    }\n",
       "</style>\n",
       "<table border=\"1\" class=\"dataframe\">\n",
       "  <thead>\n",
       "    <tr style=\"text-align: right;\">\n",
       "      <th></th>\n",
       "      <th>France</th>\n",
       "      <th>Allemagne (+LU)</th>\n",
       "    </tr>\n",
       "  </thead>\n",
       "  <tbody>\n",
       "    <tr>\n",
       "      <th>Consommation totale [GWh]</th>\n",
       "      <td>425429.0</td>\n",
       "      <td>461811.0</td>\n",
       "    </tr>\n",
       "    <tr>\n",
       "      <th>Consommation totale par habitant [kWh]</th>\n",
       "      <td>6279.0</td>\n",
       "      <td>5508.0</td>\n",
       "    </tr>\n",
       "    <tr>\n",
       "      <th>Production totale [GWh]</th>\n",
       "      <td>481831.0</td>\n",
       "      <td>463628.0</td>\n",
       "    </tr>\n",
       "    <tr>\n",
       "      <th>Production totale par habitant [kWh]</th>\n",
       "      <td>NaN</td>\n",
       "      <td>5530.0</td>\n",
       "    </tr>\n",
       "    <tr>\n",
       "      <th>Temps en sous-production [%]</th>\n",
       "      <td>NaN</td>\n",
       "      <td>NaN</td>\n",
       "    </tr>\n",
       "    <tr>\n",
       "      <th>Temps en sous-production si que renouvelables [%]</th>\n",
       "      <td>NaN</td>\n",
       "      <td>NaN</td>\n",
       "    </tr>\n",
       "    <tr>\n",
       "      <th>Augmentation necessaire des renouvelables solaires et éoliennes pour un temps en sous-production &lt;10% en exclusivement renouvelable [%]</th>\n",
       "      <td>NaN</td>\n",
       "      <td>NaN</td>\n",
       "    </tr>\n",
       "    <tr>\n",
       "      <th>Augmentation necessaire des renouvelables solaires et éoliennes pour un temps en sous-production &lt;10% en exclusivement renouvelable - consommation de -10% en cas de sous-production [%]</th>\n",
       "      <td>NaN</td>\n",
       "      <td>NaN</td>\n",
       "    </tr>\n",
       "    <tr>\n",
       "      <th>Augmentation necessaire des renouvelables solaires et éoliennes pour un temps en sous-production &lt;10% en exclusivement renouvelable - stockage zero pertes de 100W, 1000Wh /hab [%]</th>\n",
       "      <td>NaN</td>\n",
       "      <td>NaN</td>\n",
       "    </tr>\n",
       "    <tr>\n",
       "      <th>Augmentation necessaire des renouvelables solaires et éoliennes pour un temps en sous-production &lt;10% en exclusivement renouvelable - consommation de -10% en cas de sous-production et stockage zero pertes 100W, 1000Wh /hab [%]</th>\n",
       "      <td>NaN</td>\n",
       "      <td>NaN</td>\n",
       "    </tr>\n",
       "  </tbody>\n",
       "</table>\n",
       "</div>"
      ],
      "text/plain": [
       "                                                      France Allemagne (+LU)\n",
       "Consommation totale [GWh]                           425429.0        461811.0\n",
       "Consommation totale par habitant [kWh]                6279.0          5508.0\n",
       "Production totale [GWh]                             481831.0        463628.0\n",
       "Production totale par habitant [kWh]                     NaN          5530.0\n",
       "Temps en sous-production [%]                             NaN             NaN\n",
       "Temps en sous-production si que renouvelables [%]        NaN             NaN\n",
       "Augmentation necessaire des renouvelables solai...       NaN             NaN\n",
       "Augmentation necessaire des renouvelables solai...       NaN             NaN\n",
       "Augmentation necessaire des renouvelables solai...       NaN             NaN\n",
       "Augmentation necessaire des renouvelables solai...       NaN             NaN"
      ]
     },
     "execution_count": 21,
     "metadata": {},
     "output_type": "execute_result"
    }
   ],
   "source": [
    "df ['Allemagne (+LU)'][3]=round(TotalProdDE*1000/habDE,0)\n",
    "df"
   ]
  },
  {
   "cell_type": "code",
   "execution_count": 22,
   "id": "19f27f84",
   "metadata": {},
   "outputs": [
    {
     "data": {
      "text/html": [
       "<div>\n",
       "<style scoped>\n",
       "    .dataframe tbody tr th:only-of-type {\n",
       "        vertical-align: middle;\n",
       "    }\n",
       "\n",
       "    .dataframe tbody tr th {\n",
       "        vertical-align: top;\n",
       "    }\n",
       "\n",
       "    .dataframe thead th {\n",
       "        text-align: right;\n",
       "    }\n",
       "</style>\n",
       "<table border=\"1\" class=\"dataframe\">\n",
       "  <thead>\n",
       "    <tr style=\"text-align: right;\">\n",
       "      <th></th>\n",
       "      <th>France</th>\n",
       "      <th>Allemagne (+LU)</th>\n",
       "    </tr>\n",
       "  </thead>\n",
       "  <tbody>\n",
       "    <tr>\n",
       "      <th>Consommation totale [GWh]</th>\n",
       "      <td>425429.0</td>\n",
       "      <td>461811.0</td>\n",
       "    </tr>\n",
       "    <tr>\n",
       "      <th>Consommation totale par habitant [kWh]</th>\n",
       "      <td>6279.0</td>\n",
       "      <td>5508.0</td>\n",
       "    </tr>\n",
       "    <tr>\n",
       "      <th>Production totale [GWh]</th>\n",
       "      <td>481831.0</td>\n",
       "      <td>463628.0</td>\n",
       "    </tr>\n",
       "    <tr>\n",
       "      <th>Production totale par habitant [kWh]</th>\n",
       "      <td>7112.0</td>\n",
       "      <td>5530.0</td>\n",
       "    </tr>\n",
       "    <tr>\n",
       "      <th>Temps en sous-production [%]</th>\n",
       "      <td>NaN</td>\n",
       "      <td>NaN</td>\n",
       "    </tr>\n",
       "    <tr>\n",
       "      <th>Temps en sous-production si que renouvelables [%]</th>\n",
       "      <td>NaN</td>\n",
       "      <td>NaN</td>\n",
       "    </tr>\n",
       "    <tr>\n",
       "      <th>Augmentation necessaire des renouvelables solaires et éoliennes pour un temps en sous-production &lt;10% en exclusivement renouvelable [%]</th>\n",
       "      <td>NaN</td>\n",
       "      <td>NaN</td>\n",
       "    </tr>\n",
       "    <tr>\n",
       "      <th>Augmentation necessaire des renouvelables solaires et éoliennes pour un temps en sous-production &lt;10% en exclusivement renouvelable - consommation de -10% en cas de sous-production [%]</th>\n",
       "      <td>NaN</td>\n",
       "      <td>NaN</td>\n",
       "    </tr>\n",
       "    <tr>\n",
       "      <th>Augmentation necessaire des renouvelables solaires et éoliennes pour un temps en sous-production &lt;10% en exclusivement renouvelable - stockage zero pertes de 100W, 1000Wh /hab [%]</th>\n",
       "      <td>NaN</td>\n",
       "      <td>NaN</td>\n",
       "    </tr>\n",
       "    <tr>\n",
       "      <th>Augmentation necessaire des renouvelables solaires et éoliennes pour un temps en sous-production &lt;10% en exclusivement renouvelable - consommation de -10% en cas de sous-production et stockage zero pertes 100W, 1000Wh /hab [%]</th>\n",
       "      <td>NaN</td>\n",
       "      <td>NaN</td>\n",
       "    </tr>\n",
       "  </tbody>\n",
       "</table>\n",
       "</div>"
      ],
      "text/plain": [
       "                                                      France Allemagne (+LU)\n",
       "Consommation totale [GWh]                           425429.0        461811.0\n",
       "Consommation totale par habitant [kWh]                6279.0          5508.0\n",
       "Production totale [GWh]                             481831.0        463628.0\n",
       "Production totale par habitant [kWh]                  7112.0          5530.0\n",
       "Temps en sous-production [%]                             NaN             NaN\n",
       "Temps en sous-production si que renouvelables [%]        NaN             NaN\n",
       "Augmentation necessaire des renouvelables solai...       NaN             NaN\n",
       "Augmentation necessaire des renouvelables solai...       NaN             NaN\n",
       "Augmentation necessaire des renouvelables solai...       NaN             NaN\n",
       "Augmentation necessaire des renouvelables solai...       NaN             NaN"
      ]
     },
     "execution_count": 22,
     "metadata": {},
     "output_type": "execute_result"
    }
   ],
   "source": [
    "df ['France'][3]=round(TotalProdFR*1000/habFR,0)\n",
    "df"
   ]
  },
  {
   "cell_type": "markdown",
   "id": "5f02c772",
   "metadata": {},
   "source": [
    "# Analyse des durées de sous-production"
   ]
  },
  {
   "cell_type": "code",
   "execution_count": 23,
   "id": "92e2ee0d",
   "metadata": {},
   "outputs": [],
   "source": [
    "timeProdDE = ProdDE.sum(numeric_only = True, axis=1)\n",
    "timeSousProdDE = timeProdDE < LoadDE['Actual Total Load [MW] - BZN|DE-LU']"
   ]
  },
  {
   "cell_type": "code",
   "execution_count": 24,
   "id": "6f5f6b63",
   "metadata": {},
   "outputs": [
    {
     "data": {
      "text/html": [
       "<div>\n",
       "<style scoped>\n",
       "    .dataframe tbody tr th:only-of-type {\n",
       "        vertical-align: middle;\n",
       "    }\n",
       "\n",
       "    .dataframe tbody tr th {\n",
       "        vertical-align: top;\n",
       "    }\n",
       "\n",
       "    .dataframe thead th {\n",
       "        text-align: right;\n",
       "    }\n",
       "</style>\n",
       "<table border=\"1\" class=\"dataframe\">\n",
       "  <thead>\n",
       "    <tr style=\"text-align: right;\">\n",
       "      <th></th>\n",
       "      <th>France</th>\n",
       "      <th>Allemagne (+LU)</th>\n",
       "    </tr>\n",
       "  </thead>\n",
       "  <tbody>\n",
       "    <tr>\n",
       "      <th>Consommation totale [GWh]</th>\n",
       "      <td>425429.0</td>\n",
       "      <td>461811.0</td>\n",
       "    </tr>\n",
       "    <tr>\n",
       "      <th>Consommation totale par habitant [kWh]</th>\n",
       "      <td>6279.0</td>\n",
       "      <td>5508.0</td>\n",
       "    </tr>\n",
       "    <tr>\n",
       "      <th>Production totale [GWh]</th>\n",
       "      <td>481831.0</td>\n",
       "      <td>463628.0</td>\n",
       "    </tr>\n",
       "    <tr>\n",
       "      <th>Production totale par habitant [kWh]</th>\n",
       "      <td>7112.0</td>\n",
       "      <td>5530.0</td>\n",
       "    </tr>\n",
       "    <tr>\n",
       "      <th>Temps en sous-production [%]</th>\n",
       "      <td>NaN</td>\n",
       "      <td>52.1</td>\n",
       "    </tr>\n",
       "    <tr>\n",
       "      <th>Temps en sous-production si que renouvelables [%]</th>\n",
       "      <td>NaN</td>\n",
       "      <td>NaN</td>\n",
       "    </tr>\n",
       "    <tr>\n",
       "      <th>Augmentation necessaire des renouvelables solaires et éoliennes pour un temps en sous-production &lt;10% en exclusivement renouvelable [%]</th>\n",
       "      <td>NaN</td>\n",
       "      <td>NaN</td>\n",
       "    </tr>\n",
       "    <tr>\n",
       "      <th>Augmentation necessaire des renouvelables solaires et éoliennes pour un temps en sous-production &lt;10% en exclusivement renouvelable - consommation de -10% en cas de sous-production [%]</th>\n",
       "      <td>NaN</td>\n",
       "      <td>NaN</td>\n",
       "    </tr>\n",
       "    <tr>\n",
       "      <th>Augmentation necessaire des renouvelables solaires et éoliennes pour un temps en sous-production &lt;10% en exclusivement renouvelable - stockage zero pertes de 100W, 1000Wh /hab [%]</th>\n",
       "      <td>NaN</td>\n",
       "      <td>NaN</td>\n",
       "    </tr>\n",
       "    <tr>\n",
       "      <th>Augmentation necessaire des renouvelables solaires et éoliennes pour un temps en sous-production &lt;10% en exclusivement renouvelable - consommation de -10% en cas de sous-production et stockage zero pertes 100W, 1000Wh /hab [%]</th>\n",
       "      <td>NaN</td>\n",
       "      <td>NaN</td>\n",
       "    </tr>\n",
       "  </tbody>\n",
       "</table>\n",
       "</div>"
      ],
      "text/plain": [
       "                                                      France Allemagne (+LU)\n",
       "Consommation totale [GWh]                           425429.0        461811.0\n",
       "Consommation totale par habitant [kWh]                6279.0          5508.0\n",
       "Production totale [GWh]                             481831.0        463628.0\n",
       "Production totale par habitant [kWh]                  7112.0          5530.0\n",
       "Temps en sous-production [%]                             NaN            52.1\n",
       "Temps en sous-production si que renouvelables [%]        NaN             NaN\n",
       "Augmentation necessaire des renouvelables solai...       NaN             NaN\n",
       "Augmentation necessaire des renouvelables solai...       NaN             NaN\n",
       "Augmentation necessaire des renouvelables solai...       NaN             NaN\n",
       "Augmentation necessaire des renouvelables solai...       NaN             NaN"
      ]
     },
     "execution_count": 24,
     "metadata": {},
     "output_type": "execute_result"
    }
   ],
   "source": [
    "df ['Allemagne (+LU)'][4]=round(sum(timeSousProdDE)/len(ProdDE)*100,1)\n",
    "df"
   ]
  },
  {
   "cell_type": "code",
   "execution_count": 25,
   "id": "c2216ca7",
   "metadata": {},
   "outputs": [],
   "source": [
    "timeProdFR = ProdFR.sum(numeric_only = True, axis=1)\n",
    "timeSousProdFR = timeProdFR < LoadFR['Actual Total Load [MW] - BZN|FR']"
   ]
  },
  {
   "cell_type": "code",
   "execution_count": 26,
   "id": "67748e67",
   "metadata": {},
   "outputs": [
    {
     "data": {
      "text/html": [
       "<div>\n",
       "<style scoped>\n",
       "    .dataframe tbody tr th:only-of-type {\n",
       "        vertical-align: middle;\n",
       "    }\n",
       "\n",
       "    .dataframe tbody tr th {\n",
       "        vertical-align: top;\n",
       "    }\n",
       "\n",
       "    .dataframe thead th {\n",
       "        text-align: right;\n",
       "    }\n",
       "</style>\n",
       "<table border=\"1\" class=\"dataframe\">\n",
       "  <thead>\n",
       "    <tr style=\"text-align: right;\">\n",
       "      <th></th>\n",
       "      <th>France</th>\n",
       "      <th>Allemagne (+LU)</th>\n",
       "    </tr>\n",
       "  </thead>\n",
       "  <tbody>\n",
       "    <tr>\n",
       "      <th>Consommation totale [GWh]</th>\n",
       "      <td>425429.0</td>\n",
       "      <td>461811.0</td>\n",
       "    </tr>\n",
       "    <tr>\n",
       "      <th>Consommation totale par habitant [kWh]</th>\n",
       "      <td>6279.0</td>\n",
       "      <td>5508.0</td>\n",
       "    </tr>\n",
       "    <tr>\n",
       "      <th>Production totale [GWh]</th>\n",
       "      <td>481831.0</td>\n",
       "      <td>463628.0</td>\n",
       "    </tr>\n",
       "    <tr>\n",
       "      <th>Production totale par habitant [kWh]</th>\n",
       "      <td>7112.0</td>\n",
       "      <td>5530.0</td>\n",
       "    </tr>\n",
       "    <tr>\n",
       "      <th>Temps en sous-production [%]</th>\n",
       "      <td>10.6</td>\n",
       "      <td>52.1</td>\n",
       "    </tr>\n",
       "    <tr>\n",
       "      <th>Temps en sous-production si que renouvelables [%]</th>\n",
       "      <td>NaN</td>\n",
       "      <td>NaN</td>\n",
       "    </tr>\n",
       "    <tr>\n",
       "      <th>Augmentation necessaire des renouvelables solaires et éoliennes pour un temps en sous-production &lt;10% en exclusivement renouvelable [%]</th>\n",
       "      <td>NaN</td>\n",
       "      <td>NaN</td>\n",
       "    </tr>\n",
       "    <tr>\n",
       "      <th>Augmentation necessaire des renouvelables solaires et éoliennes pour un temps en sous-production &lt;10% en exclusivement renouvelable - consommation de -10% en cas de sous-production [%]</th>\n",
       "      <td>NaN</td>\n",
       "      <td>NaN</td>\n",
       "    </tr>\n",
       "    <tr>\n",
       "      <th>Augmentation necessaire des renouvelables solaires et éoliennes pour un temps en sous-production &lt;10% en exclusivement renouvelable - stockage zero pertes de 100W, 1000Wh /hab [%]</th>\n",
       "      <td>NaN</td>\n",
       "      <td>NaN</td>\n",
       "    </tr>\n",
       "    <tr>\n",
       "      <th>Augmentation necessaire des renouvelables solaires et éoliennes pour un temps en sous-production &lt;10% en exclusivement renouvelable - consommation de -10% en cas de sous-production et stockage zero pertes 100W, 1000Wh /hab [%]</th>\n",
       "      <td>NaN</td>\n",
       "      <td>NaN</td>\n",
       "    </tr>\n",
       "  </tbody>\n",
       "</table>\n",
       "</div>"
      ],
      "text/plain": [
       "                                                      France Allemagne (+LU)\n",
       "Consommation totale [GWh]                           425429.0        461811.0\n",
       "Consommation totale par habitant [kWh]                6279.0          5508.0\n",
       "Production totale [GWh]                             481831.0        463628.0\n",
       "Production totale par habitant [kWh]                  7112.0          5530.0\n",
       "Temps en sous-production [%]                            10.6            52.1\n",
       "Temps en sous-production si que renouvelables [%]        NaN             NaN\n",
       "Augmentation necessaire des renouvelables solai...       NaN             NaN\n",
       "Augmentation necessaire des renouvelables solai...       NaN             NaN\n",
       "Augmentation necessaire des renouvelables solai...       NaN             NaN\n",
       "Augmentation necessaire des renouvelables solai...       NaN             NaN"
      ]
     },
     "execution_count": 26,
     "metadata": {},
     "output_type": "execute_result"
    }
   ],
   "source": [
    "df ['France'][4]=round(sum(timeSousProdFR)/len(ProdFR)*100,1)\n",
    "df"
   ]
  },
  {
   "cell_type": "markdown",
   "id": "5e276bae",
   "metadata": {},
   "source": [
    "# Analyse des durées de sous-production: si production exclusivement renouvelable"
   ]
  },
  {
   "cell_type": "code",
   "execution_count": 27,
   "id": "d2ed7c11",
   "metadata": {},
   "outputs": [],
   "source": [
    "#ProdDE.columns"
   ]
  },
  {
   "cell_type": "code",
   "execution_count": 28,
   "id": "6db62892",
   "metadata": {},
   "outputs": [],
   "source": [
    "colRen=[ProdDE.columns[2],ProdDE.columns[10] ,ProdDE.columns[11], ProdDE.columns[13], \n",
    "     ProdDE.columns[14],ProdDE.columns[15], ProdDE.columns[17], ProdDE.columns[18], ProdDE.columns[19],\n",
    "     ProdDE.columns[20], ProdDE.columns[21], ProdDE.columns[22]]\n",
    "#col"
   ]
  },
  {
   "cell_type": "code",
   "execution_count": 29,
   "id": "5a617ac9",
   "metadata": {},
   "outputs": [],
   "source": [
    "timeProdRenDE = ProdDE[colRen].sum(numeric_only = True, axis=1)\n",
    "#timeProdDE"
   ]
  },
  {
   "cell_type": "code",
   "execution_count": 30,
   "id": "631b6dec",
   "metadata": {},
   "outputs": [],
   "source": [
    "timeSousProdRenDE = timeProdRenDE < LoadDE['Actual Total Load [MW] - BZN|DE-LU']"
   ]
  },
  {
   "cell_type": "code",
   "execution_count": 31,
   "id": "2dff37cd",
   "metadata": {},
   "outputs": [
    {
     "data": {
      "text/html": [
       "<div>\n",
       "<style scoped>\n",
       "    .dataframe tbody tr th:only-of-type {\n",
       "        vertical-align: middle;\n",
       "    }\n",
       "\n",
       "    .dataframe tbody tr th {\n",
       "        vertical-align: top;\n",
       "    }\n",
       "\n",
       "    .dataframe thead th {\n",
       "        text-align: right;\n",
       "    }\n",
       "</style>\n",
       "<table border=\"1\" class=\"dataframe\">\n",
       "  <thead>\n",
       "    <tr style=\"text-align: right;\">\n",
       "      <th></th>\n",
       "      <th>France</th>\n",
       "      <th>Allemagne (+LU)</th>\n",
       "    </tr>\n",
       "  </thead>\n",
       "  <tbody>\n",
       "    <tr>\n",
       "      <th>Consommation totale [GWh]</th>\n",
       "      <td>425429.0</td>\n",
       "      <td>461811.0</td>\n",
       "    </tr>\n",
       "    <tr>\n",
       "      <th>Consommation totale par habitant [kWh]</th>\n",
       "      <td>6279.0</td>\n",
       "      <td>5508.0</td>\n",
       "    </tr>\n",
       "    <tr>\n",
       "      <th>Production totale [GWh]</th>\n",
       "      <td>481831.0</td>\n",
       "      <td>463628.0</td>\n",
       "    </tr>\n",
       "    <tr>\n",
       "      <th>Production totale par habitant [kWh]</th>\n",
       "      <td>7112.0</td>\n",
       "      <td>5530.0</td>\n",
       "    </tr>\n",
       "    <tr>\n",
       "      <th>Temps en sous-production [%]</th>\n",
       "      <td>10.6</td>\n",
       "      <td>52.1</td>\n",
       "    </tr>\n",
       "    <tr>\n",
       "      <th>Temps en sous-production si que renouvelables [%]</th>\n",
       "      <td>NaN</td>\n",
       "      <td>95.5</td>\n",
       "    </tr>\n",
       "    <tr>\n",
       "      <th>Augmentation necessaire des renouvelables solaires et éoliennes pour un temps en sous-production &lt;10% en exclusivement renouvelable [%]</th>\n",
       "      <td>NaN</td>\n",
       "      <td>NaN</td>\n",
       "    </tr>\n",
       "    <tr>\n",
       "      <th>Augmentation necessaire des renouvelables solaires et éoliennes pour un temps en sous-production &lt;10% en exclusivement renouvelable - consommation de -10% en cas de sous-production [%]</th>\n",
       "      <td>NaN</td>\n",
       "      <td>NaN</td>\n",
       "    </tr>\n",
       "    <tr>\n",
       "      <th>Augmentation necessaire des renouvelables solaires et éoliennes pour un temps en sous-production &lt;10% en exclusivement renouvelable - stockage zero pertes de 100W, 1000Wh /hab [%]</th>\n",
       "      <td>NaN</td>\n",
       "      <td>NaN</td>\n",
       "    </tr>\n",
       "    <tr>\n",
       "      <th>Augmentation necessaire des renouvelables solaires et éoliennes pour un temps en sous-production &lt;10% en exclusivement renouvelable - consommation de -10% en cas de sous-production et stockage zero pertes 100W, 1000Wh /hab [%]</th>\n",
       "      <td>NaN</td>\n",
       "      <td>NaN</td>\n",
       "    </tr>\n",
       "  </tbody>\n",
       "</table>\n",
       "</div>"
      ],
      "text/plain": [
       "                                                      France Allemagne (+LU)\n",
       "Consommation totale [GWh]                           425429.0        461811.0\n",
       "Consommation totale par habitant [kWh]                6279.0          5508.0\n",
       "Production totale [GWh]                             481831.0        463628.0\n",
       "Production totale par habitant [kWh]                  7112.0          5530.0\n",
       "Temps en sous-production [%]                            10.6            52.1\n",
       "Temps en sous-production si que renouvelables [%]        NaN            95.5\n",
       "Augmentation necessaire des renouvelables solai...       NaN             NaN\n",
       "Augmentation necessaire des renouvelables solai...       NaN             NaN\n",
       "Augmentation necessaire des renouvelables solai...       NaN             NaN\n",
       "Augmentation necessaire des renouvelables solai...       NaN             NaN"
      ]
     },
     "execution_count": 31,
     "metadata": {},
     "output_type": "execute_result"
    }
   ],
   "source": [
    "df ['Allemagne (+LU)'][5]=round(sum(timeSousProdRenDE)/len(ProdDE)*100,1)\n",
    "df"
   ]
  },
  {
   "cell_type": "code",
   "execution_count": 32,
   "id": "63f97d7d",
   "metadata": {},
   "outputs": [],
   "source": [
    "timeProdRenFR = ProdFR[colRen].sum(numeric_only = True, axis=1)\n",
    "#timeProdFR"
   ]
  },
  {
   "cell_type": "code",
   "execution_count": 33,
   "id": "91a0fa14",
   "metadata": {},
   "outputs": [],
   "source": [
    "timeSousProdRenFR = timeProdRenFR < LoadFR['Actual Total Load [MW] - BZN|FR']"
   ]
  },
  {
   "cell_type": "code",
   "execution_count": 34,
   "id": "dae911a7",
   "metadata": {},
   "outputs": [
    {
     "data": {
      "text/html": [
       "<div>\n",
       "<style scoped>\n",
       "    .dataframe tbody tr th:only-of-type {\n",
       "        vertical-align: middle;\n",
       "    }\n",
       "\n",
       "    .dataframe tbody tr th {\n",
       "        vertical-align: top;\n",
       "    }\n",
       "\n",
       "    .dataframe thead th {\n",
       "        text-align: right;\n",
       "    }\n",
       "</style>\n",
       "<table border=\"1\" class=\"dataframe\">\n",
       "  <thead>\n",
       "    <tr style=\"text-align: right;\">\n",
       "      <th></th>\n",
       "      <th>France</th>\n",
       "      <th>Allemagne (+LU)</th>\n",
       "    </tr>\n",
       "  </thead>\n",
       "  <tbody>\n",
       "    <tr>\n",
       "      <th>Consommation totale [GWh]</th>\n",
       "      <td>425429.0</td>\n",
       "      <td>461811.0</td>\n",
       "    </tr>\n",
       "    <tr>\n",
       "      <th>Consommation totale par habitant [kWh]</th>\n",
       "      <td>6279.0</td>\n",
       "      <td>5508.0</td>\n",
       "    </tr>\n",
       "    <tr>\n",
       "      <th>Production totale [GWh]</th>\n",
       "      <td>481831.0</td>\n",
       "      <td>463628.0</td>\n",
       "    </tr>\n",
       "    <tr>\n",
       "      <th>Production totale par habitant [kWh]</th>\n",
       "      <td>7112.0</td>\n",
       "      <td>5530.0</td>\n",
       "    </tr>\n",
       "    <tr>\n",
       "      <th>Temps en sous-production [%]</th>\n",
       "      <td>10.6</td>\n",
       "      <td>52.1</td>\n",
       "    </tr>\n",
       "    <tr>\n",
       "      <th>Temps en sous-production si que renouvelables [%]</th>\n",
       "      <td>99.9</td>\n",
       "      <td>95.5</td>\n",
       "    </tr>\n",
       "    <tr>\n",
       "      <th>Augmentation necessaire des renouvelables solaires et éoliennes pour un temps en sous-production &lt;10% en exclusivement renouvelable [%]</th>\n",
       "      <td>NaN</td>\n",
       "      <td>NaN</td>\n",
       "    </tr>\n",
       "    <tr>\n",
       "      <th>Augmentation necessaire des renouvelables solaires et éoliennes pour un temps en sous-production &lt;10% en exclusivement renouvelable - consommation de -10% en cas de sous-production [%]</th>\n",
       "      <td>NaN</td>\n",
       "      <td>NaN</td>\n",
       "    </tr>\n",
       "    <tr>\n",
       "      <th>Augmentation necessaire des renouvelables solaires et éoliennes pour un temps en sous-production &lt;10% en exclusivement renouvelable - stockage zero pertes de 100W, 1000Wh /hab [%]</th>\n",
       "      <td>NaN</td>\n",
       "      <td>NaN</td>\n",
       "    </tr>\n",
       "    <tr>\n",
       "      <th>Augmentation necessaire des renouvelables solaires et éoliennes pour un temps en sous-production &lt;10% en exclusivement renouvelable - consommation de -10% en cas de sous-production et stockage zero pertes 100W, 1000Wh /hab [%]</th>\n",
       "      <td>NaN</td>\n",
       "      <td>NaN</td>\n",
       "    </tr>\n",
       "  </tbody>\n",
       "</table>\n",
       "</div>"
      ],
      "text/plain": [
       "                                                      France Allemagne (+LU)\n",
       "Consommation totale [GWh]                           425429.0        461811.0\n",
       "Consommation totale par habitant [kWh]                6279.0          5508.0\n",
       "Production totale [GWh]                             481831.0        463628.0\n",
       "Production totale par habitant [kWh]                  7112.0          5530.0\n",
       "Temps en sous-production [%]                            10.6            52.1\n",
       "Temps en sous-production si que renouvelables [%]       99.9            95.5\n",
       "Augmentation necessaire des renouvelables solai...       NaN             NaN\n",
       "Augmentation necessaire des renouvelables solai...       NaN             NaN\n",
       "Augmentation necessaire des renouvelables solai...       NaN             NaN\n",
       "Augmentation necessaire des renouvelables solai...       NaN             NaN"
      ]
     },
     "execution_count": 34,
     "metadata": {},
     "output_type": "execute_result"
    }
   ],
   "source": [
    "df ['France'][5]=round(sum(timeSousProdRenFR)/len(ProdFR)*100,1)\n",
    "df"
   ]
  },
  {
   "cell_type": "markdown",
   "id": "3fe79b9e",
   "metadata": {},
   "source": [
    "# Augmentation necessaire des renouvelables solaires et éoliennes pour atteindre moins de 10% de temps de sous-production en production exclusivement renouvelable"
   ]
  },
  {
   "cell_type": "code",
   "execution_count": 35,
   "id": "2a86502c",
   "metadata": {},
   "outputs": [
    {
     "data": {
      "text/plain": [
       "Index(['Area', 'MTU', 'Biomass  - Actual Aggregated [MW]',\n",
       "       'Fossil Brown coal/Lignite  - Actual Aggregated [MW]',\n",
       "       'Fossil Coal-derived gas  - Actual Aggregated [MW]',\n",
       "       'Fossil Gas  - Actual Aggregated [MW]',\n",
       "       'Fossil Hard coal  - Actual Aggregated [MW]',\n",
       "       'Fossil Oil  - Actual Aggregated [MW]',\n",
       "       'Fossil Oil shale  - Actual Aggregated [MW]',\n",
       "       'Fossil Peat  - Actual Aggregated [MW]',\n",
       "       'Geothermal  - Actual Aggregated [MW]',\n",
       "       'Hydro Pumped Storage  - Actual Aggregated [MW]',\n",
       "       'Hydro Pumped Storage  - Actual Consumption [MW]',\n",
       "       'Hydro Run-of-river and poundage  - Actual Aggregated [MW]',\n",
       "       'Hydro Water Reservoir  - Actual Aggregated [MW]',\n",
       "       'Marine  - Actual Aggregated [MW]', 'Nuclear  - Actual Aggregated [MW]',\n",
       "       'Other  - Actual Aggregated [MW]',\n",
       "       'Other renewable  - Actual Aggregated [MW]',\n",
       "       'Solar  - Actual Aggregated [MW]', 'Waste  - Actual Aggregated [MW]',\n",
       "       'Wind Offshore  - Actual Aggregated [MW]',\n",
       "       'Wind Onshore  - Actual Aggregated [MW]'],\n",
       "      dtype='object')"
      ]
     },
     "execution_count": 35,
     "metadata": {},
     "output_type": "execute_result"
    }
   ],
   "source": [
    "ProdDE.columns"
   ]
  },
  {
   "cell_type": "code",
   "execution_count": 36,
   "id": "ee41a405",
   "metadata": {},
   "outputs": [
    {
     "data": {
      "text/plain": [
       "['Solar  - Actual Aggregated [MW]',\n",
       " 'Wind Offshore  - Actual Aggregated [MW]',\n",
       " 'Wind Onshore  - Actual Aggregated [MW]']"
      ]
     },
     "execution_count": 36,
     "metadata": {},
     "output_type": "execute_result"
    }
   ],
   "source": [
    "colRenScalable=[ProdDE.columns[19], ProdDE.columns[21], ProdDE.columns[22]]\n",
    "colRenScalable"
   ]
  },
  {
   "cell_type": "code",
   "execution_count": 37,
   "id": "22e6b5b1",
   "metadata": {},
   "outputs": [],
   "source": [
    "timeProdRenScalableDE = ProdDE[colRenScalable].sum(numeric_only = True, axis=1)\n",
    "#timeProdRenScalableDE"
   ]
  },
  {
   "cell_type": "code",
   "execution_count": 38,
   "id": "299d8334",
   "metadata": {},
   "outputs": [
    {
     "data": {
      "text/plain": [
       "9.964615911425637"
      ]
     },
     "execution_count": 38,
     "metadata": {},
     "output_type": "execute_result"
    }
   ],
   "source": [
    "FactorDE=6\n",
    "timeSousProdRenDE = timeProdRenDE+timeProdRenScalableDE*FactorDE < LoadDE['Actual Total Load [MW] - BZN|DE-LU']\n",
    "result=sum(timeSousProdRenDE)/len(ProdDE)*100\n",
    "result"
   ]
  },
  {
   "cell_type": "code",
   "execution_count": 39,
   "id": "81e9fdb5",
   "metadata": {},
   "outputs": [
    {
     "data": {
      "text/html": [
       "<div>\n",
       "<style scoped>\n",
       "    .dataframe tbody tr th:only-of-type {\n",
       "        vertical-align: middle;\n",
       "    }\n",
       "\n",
       "    .dataframe tbody tr th {\n",
       "        vertical-align: top;\n",
       "    }\n",
       "\n",
       "    .dataframe thead th {\n",
       "        text-align: right;\n",
       "    }\n",
       "</style>\n",
       "<table border=\"1\" class=\"dataframe\">\n",
       "  <thead>\n",
       "    <tr style=\"text-align: right;\">\n",
       "      <th></th>\n",
       "      <th>France</th>\n",
       "      <th>Allemagne (+LU)</th>\n",
       "    </tr>\n",
       "  </thead>\n",
       "  <tbody>\n",
       "    <tr>\n",
       "      <th>Consommation totale [GWh]</th>\n",
       "      <td>425429.0</td>\n",
       "      <td>461811.0</td>\n",
       "    </tr>\n",
       "    <tr>\n",
       "      <th>Consommation totale par habitant [kWh]</th>\n",
       "      <td>6279.0</td>\n",
       "      <td>5508.0</td>\n",
       "    </tr>\n",
       "    <tr>\n",
       "      <th>Production totale [GWh]</th>\n",
       "      <td>481831.0</td>\n",
       "      <td>463628.0</td>\n",
       "    </tr>\n",
       "    <tr>\n",
       "      <th>Production totale par habitant [kWh]</th>\n",
       "      <td>7112.0</td>\n",
       "      <td>5530.0</td>\n",
       "    </tr>\n",
       "    <tr>\n",
       "      <th>Temps en sous-production [%]</th>\n",
       "      <td>10.6</td>\n",
       "      <td>52.1</td>\n",
       "    </tr>\n",
       "    <tr>\n",
       "      <th>Temps en sous-production si que renouvelables [%]</th>\n",
       "      <td>99.9</td>\n",
       "      <td>95.5</td>\n",
       "    </tr>\n",
       "    <tr>\n",
       "      <th>Augmentation necessaire des renouvelables solaires et éoliennes pour un temps en sous-production &lt;10% en exclusivement renouvelable [%]</th>\n",
       "      <td>NaN</td>\n",
       "      <td>600</td>\n",
       "    </tr>\n",
       "    <tr>\n",
       "      <th>Augmentation necessaire des renouvelables solaires et éoliennes pour un temps en sous-production &lt;10% en exclusivement renouvelable - consommation de -10% en cas de sous-production [%]</th>\n",
       "      <td>NaN</td>\n",
       "      <td>NaN</td>\n",
       "    </tr>\n",
       "    <tr>\n",
       "      <th>Augmentation necessaire des renouvelables solaires et éoliennes pour un temps en sous-production &lt;10% en exclusivement renouvelable - stockage zero pertes de 100W, 1000Wh /hab [%]</th>\n",
       "      <td>NaN</td>\n",
       "      <td>NaN</td>\n",
       "    </tr>\n",
       "    <tr>\n",
       "      <th>Augmentation necessaire des renouvelables solaires et éoliennes pour un temps en sous-production &lt;10% en exclusivement renouvelable - consommation de -10% en cas de sous-production et stockage zero pertes 100W, 1000Wh /hab [%]</th>\n",
       "      <td>NaN</td>\n",
       "      <td>NaN</td>\n",
       "    </tr>\n",
       "  </tbody>\n",
       "</table>\n",
       "</div>"
      ],
      "text/plain": [
       "                                                      France Allemagne (+LU)\n",
       "Consommation totale [GWh]                           425429.0        461811.0\n",
       "Consommation totale par habitant [kWh]                6279.0          5508.0\n",
       "Production totale [GWh]                             481831.0        463628.0\n",
       "Production totale par habitant [kWh]                  7112.0          5530.0\n",
       "Temps en sous-production [%]                            10.6            52.1\n",
       "Temps en sous-production si que renouvelables [%]       99.9            95.5\n",
       "Augmentation necessaire des renouvelables solai...       NaN             600\n",
       "Augmentation necessaire des renouvelables solai...       NaN             NaN\n",
       "Augmentation necessaire des renouvelables solai...       NaN             NaN\n",
       "Augmentation necessaire des renouvelables solai...       NaN             NaN"
      ]
     },
     "execution_count": 39,
     "metadata": {},
     "output_type": "execute_result"
    }
   ],
   "source": [
    "df ['Allemagne (+LU)'][6]=round((FactorDE)*100,0)\n",
    "df"
   ]
  },
  {
   "cell_type": "code",
   "execution_count": 40,
   "id": "320f1de5",
   "metadata": {},
   "outputs": [],
   "source": [
    "timeProdRenScalableFR = ProdFR[colRenScalable].sum(numeric_only = True, axis=1)\n",
    "#timeProdRenScalableFR"
   ]
  },
  {
   "cell_type": "code",
   "execution_count": 41,
   "id": "e22bee01",
   "metadata": {},
   "outputs": [
    {
     "data": {
      "text/plain": [
       "9.998858577787924"
      ]
     },
     "execution_count": 41,
     "metadata": {},
     "output_type": "execute_result"
    }
   ],
   "source": [
    "FactorFR=15.9\n",
    "timeSousProdRenFR = timeProdRenFR+timeProdRenScalableFR*FactorFR < LoadFR['Actual Total Load [MW] - BZN|FR']\n",
    "result=sum(timeSousProdRenFR)/len(ProdFR)*100\n",
    "result"
   ]
  },
  {
   "cell_type": "code",
   "execution_count": 42,
   "id": "70aa84d1",
   "metadata": {},
   "outputs": [
    {
     "data": {
      "text/html": [
       "<div>\n",
       "<style scoped>\n",
       "    .dataframe tbody tr th:only-of-type {\n",
       "        vertical-align: middle;\n",
       "    }\n",
       "\n",
       "    .dataframe tbody tr th {\n",
       "        vertical-align: top;\n",
       "    }\n",
       "\n",
       "    .dataframe thead th {\n",
       "        text-align: right;\n",
       "    }\n",
       "</style>\n",
       "<table border=\"1\" class=\"dataframe\">\n",
       "  <thead>\n",
       "    <tr style=\"text-align: right;\">\n",
       "      <th></th>\n",
       "      <th>France</th>\n",
       "      <th>Allemagne (+LU)</th>\n",
       "    </tr>\n",
       "  </thead>\n",
       "  <tbody>\n",
       "    <tr>\n",
       "      <th>Consommation totale [GWh]</th>\n",
       "      <td>425429.0</td>\n",
       "      <td>461811.0</td>\n",
       "    </tr>\n",
       "    <tr>\n",
       "      <th>Consommation totale par habitant [kWh]</th>\n",
       "      <td>6279.0</td>\n",
       "      <td>5508.0</td>\n",
       "    </tr>\n",
       "    <tr>\n",
       "      <th>Production totale [GWh]</th>\n",
       "      <td>481831.0</td>\n",
       "      <td>463628.0</td>\n",
       "    </tr>\n",
       "    <tr>\n",
       "      <th>Production totale par habitant [kWh]</th>\n",
       "      <td>7112.0</td>\n",
       "      <td>5530.0</td>\n",
       "    </tr>\n",
       "    <tr>\n",
       "      <th>Temps en sous-production [%]</th>\n",
       "      <td>10.6</td>\n",
       "      <td>52.1</td>\n",
       "    </tr>\n",
       "    <tr>\n",
       "      <th>Temps en sous-production si que renouvelables [%]</th>\n",
       "      <td>99.9</td>\n",
       "      <td>95.5</td>\n",
       "    </tr>\n",
       "    <tr>\n",
       "      <th>Augmentation necessaire des renouvelables solaires et éoliennes pour un temps en sous-production &lt;10% en exclusivement renouvelable [%]</th>\n",
       "      <td>1590.0</td>\n",
       "      <td>600</td>\n",
       "    </tr>\n",
       "    <tr>\n",
       "      <th>Augmentation necessaire des renouvelables solaires et éoliennes pour un temps en sous-production &lt;10% en exclusivement renouvelable - consommation de -10% en cas de sous-production [%]</th>\n",
       "      <td>NaN</td>\n",
       "      <td>NaN</td>\n",
       "    </tr>\n",
       "    <tr>\n",
       "      <th>Augmentation necessaire des renouvelables solaires et éoliennes pour un temps en sous-production &lt;10% en exclusivement renouvelable - stockage zero pertes de 100W, 1000Wh /hab [%]</th>\n",
       "      <td>NaN</td>\n",
       "      <td>NaN</td>\n",
       "    </tr>\n",
       "    <tr>\n",
       "      <th>Augmentation necessaire des renouvelables solaires et éoliennes pour un temps en sous-production &lt;10% en exclusivement renouvelable - consommation de -10% en cas de sous-production et stockage zero pertes 100W, 1000Wh /hab [%]</th>\n",
       "      <td>NaN</td>\n",
       "      <td>NaN</td>\n",
       "    </tr>\n",
       "  </tbody>\n",
       "</table>\n",
       "</div>"
      ],
      "text/plain": [
       "                                                      France Allemagne (+LU)\n",
       "Consommation totale [GWh]                           425429.0        461811.0\n",
       "Consommation totale par habitant [kWh]                6279.0          5508.0\n",
       "Production totale [GWh]                             481831.0        463628.0\n",
       "Production totale par habitant [kWh]                  7112.0          5530.0\n",
       "Temps en sous-production [%]                            10.6            52.1\n",
       "Temps en sous-production si que renouvelables [%]       99.9            95.5\n",
       "Augmentation necessaire des renouvelables solai...    1590.0             600\n",
       "Augmentation necessaire des renouvelables solai...       NaN             NaN\n",
       "Augmentation necessaire des renouvelables solai...       NaN             NaN\n",
       "Augmentation necessaire des renouvelables solai...       NaN             NaN"
      ]
     },
     "execution_count": 42,
     "metadata": {},
     "output_type": "execute_result"
    }
   ],
   "source": [
    "df ['France'][6]=round((FactorFR)*100,0)\n",
    "df"
   ]
  },
  {
   "cell_type": "markdown",
   "id": "d8da90a8",
   "metadata": {},
   "source": [
    "# Augmentation necessaire des renouvelables solaires et éoliennes pour atteindre moins de 10% de temps de sous-production en exclusivement renouvelable - consommation de -10% en sous-production"
   ]
  },
  {
   "cell_type": "code",
   "execution_count": 43,
   "id": "dbf14dd7",
   "metadata": {},
   "outputs": [
    {
     "data": {
      "text/plain": [
       "9.84191302362744"
      ]
     },
     "execution_count": 43,
     "metadata": {},
     "output_type": "execute_result"
    }
   ],
   "source": [
    "FactorDE=5.2\n",
    "timeSousProdRenDE_temp = timeProdRenDE+timeProdRenScalableDE*FactorDE < LoadDE['Actual Total Load [MW] - BZN|DE-LU']\n",
    "sum(timeSousProdRenDE_temp.astype(int))\n",
    "LoadDE_reduced=LoadDE['Actual Total Load [MW] - BZN|DE-LU'].mul(0.9*timeSousProdRenDE_temp.astype(int), axis=0)+LoadDE['Actual Total Load [MW] - BZN|DE-LU'].mul(1-timeSousProdRenDE_temp.astype(int), axis=0)\n",
    "timeSousProdRenDE_LoadReduction = timeProdRenDE+timeProdRenScalableDE*FactorDE < LoadDE_reduced\n",
    "result=sum(timeSousProdRenDE_LoadReduction)/len(ProdDE)*100\n",
    "result"
   ]
  },
  {
   "cell_type": "code",
   "execution_count": 44,
   "id": "02178f1d",
   "metadata": {},
   "outputs": [
    {
     "data": {
      "text/html": [
       "<div>\n",
       "<style scoped>\n",
       "    .dataframe tbody tr th:only-of-type {\n",
       "        vertical-align: middle;\n",
       "    }\n",
       "\n",
       "    .dataframe tbody tr th {\n",
       "        vertical-align: top;\n",
       "    }\n",
       "\n",
       "    .dataframe thead th {\n",
       "        text-align: right;\n",
       "    }\n",
       "</style>\n",
       "<table border=\"1\" class=\"dataframe\">\n",
       "  <thead>\n",
       "    <tr style=\"text-align: right;\">\n",
       "      <th></th>\n",
       "      <th>France</th>\n",
       "      <th>Allemagne (+LU)</th>\n",
       "    </tr>\n",
       "  </thead>\n",
       "  <tbody>\n",
       "    <tr>\n",
       "      <th>Consommation totale [GWh]</th>\n",
       "      <td>425429.0</td>\n",
       "      <td>461811.0</td>\n",
       "    </tr>\n",
       "    <tr>\n",
       "      <th>Consommation totale par habitant [kWh]</th>\n",
       "      <td>6279.0</td>\n",
       "      <td>5508.0</td>\n",
       "    </tr>\n",
       "    <tr>\n",
       "      <th>Production totale [GWh]</th>\n",
       "      <td>481831.0</td>\n",
       "      <td>463628.0</td>\n",
       "    </tr>\n",
       "    <tr>\n",
       "      <th>Production totale par habitant [kWh]</th>\n",
       "      <td>7112.0</td>\n",
       "      <td>5530.0</td>\n",
       "    </tr>\n",
       "    <tr>\n",
       "      <th>Temps en sous-production [%]</th>\n",
       "      <td>10.6</td>\n",
       "      <td>52.1</td>\n",
       "    </tr>\n",
       "    <tr>\n",
       "      <th>Temps en sous-production si que renouvelables [%]</th>\n",
       "      <td>99.9</td>\n",
       "      <td>95.5</td>\n",
       "    </tr>\n",
       "    <tr>\n",
       "      <th>Augmentation necessaire des renouvelables solaires et éoliennes pour un temps en sous-production &lt;10% en exclusivement renouvelable [%]</th>\n",
       "      <td>1590.0</td>\n",
       "      <td>600</td>\n",
       "    </tr>\n",
       "    <tr>\n",
       "      <th>Augmentation necessaire des renouvelables solaires et éoliennes pour un temps en sous-production &lt;10% en exclusivement renouvelable - consommation de -10% en cas de sous-production [%]</th>\n",
       "      <td>NaN</td>\n",
       "      <td>520.0</td>\n",
       "    </tr>\n",
       "    <tr>\n",
       "      <th>Augmentation necessaire des renouvelables solaires et éoliennes pour un temps en sous-production &lt;10% en exclusivement renouvelable - stockage zero pertes de 100W, 1000Wh /hab [%]</th>\n",
       "      <td>NaN</td>\n",
       "      <td>NaN</td>\n",
       "    </tr>\n",
       "    <tr>\n",
       "      <th>Augmentation necessaire des renouvelables solaires et éoliennes pour un temps en sous-production &lt;10% en exclusivement renouvelable - consommation de -10% en cas de sous-production et stockage zero pertes 100W, 1000Wh /hab [%]</th>\n",
       "      <td>NaN</td>\n",
       "      <td>NaN</td>\n",
       "    </tr>\n",
       "  </tbody>\n",
       "</table>\n",
       "</div>"
      ],
      "text/plain": [
       "                                                      France Allemagne (+LU)\n",
       "Consommation totale [GWh]                           425429.0        461811.0\n",
       "Consommation totale par habitant [kWh]                6279.0          5508.0\n",
       "Production totale [GWh]                             481831.0        463628.0\n",
       "Production totale par habitant [kWh]                  7112.0          5530.0\n",
       "Temps en sous-production [%]                            10.6            52.1\n",
       "Temps en sous-production si que renouvelables [%]       99.9            95.5\n",
       "Augmentation necessaire des renouvelables solai...    1590.0             600\n",
       "Augmentation necessaire des renouvelables solai...       NaN           520.0\n",
       "Augmentation necessaire des renouvelables solai...       NaN             NaN\n",
       "Augmentation necessaire des renouvelables solai...       NaN             NaN"
      ]
     },
     "execution_count": 44,
     "metadata": {},
     "output_type": "execute_result"
    }
   ],
   "source": [
    "df ['Allemagne (+LU)'][7]=round((FactorDE)*100,0)\n",
    "df"
   ]
  },
  {
   "cell_type": "code",
   "execution_count": 45,
   "id": "4aa80f5d",
   "metadata": {},
   "outputs": [
    {
     "data": {
      "text/plain": [
       "9.953201689304873"
      ]
     },
     "execution_count": 45,
     "metadata": {},
     "output_type": "execute_result"
    }
   ],
   "source": [
    "FactorFR=14\n",
    "timeSousProdRenFR_temp = timeProdRenFR+timeProdRenScalableFR*FactorFR < LoadFR['Actual Total Load [MW] - BZN|FR']\n",
    "sum(timeSousProdRenFR_temp.astype(int))\n",
    "LoadFR_reduced=LoadFR['Actual Total Load [MW] - BZN|FR'].mul(0.9*timeSousProdRenFR_temp.astype(int), axis=0)+LoadFR['Actual Total Load [MW] - BZN|FR'].mul(1-timeSousProdRenFR_temp.astype(int), axis=0)\n",
    "timeSousProdRenFR_LoadReduction = timeProdRenFR+timeProdRenScalableFR*FactorFR < LoadFR_reduced\n",
    "result=sum(timeSousProdRenFR_LoadReduction)/len(ProdFR)*100\n",
    "result"
   ]
  },
  {
   "cell_type": "code",
   "execution_count": 46,
   "id": "24e6d2f6",
   "metadata": {},
   "outputs": [
    {
     "data": {
      "image/png": "[encoded data removed]",
      "text/plain": [
       "<Figure size 640x480 with 1 Axes>"
      ]
     },
     "metadata": {},
     "output_type": "display_data"
    }
   ],
   "source": [
    "timeSousProdRenFR_temp.astype(int).plot(style='.')\n",
    "plt.xlim(380, 410)\n",
    "plt.grid()"
   ]
  },
  {
   "cell_type": "code",
   "execution_count": 47,
   "id": "7532e6db",
   "metadata": {},
   "outputs": [
    {
     "data": {
      "image/png": "[encoded data removed]",
      "text/plain": [
       "<Figure size 640x480 with 1 Axes>"
      ]
     },
     "metadata": {},
     "output_type": "display_data"
    }
   ],
   "source": [
    "LoadFR['Actual Total Load [MW] - BZN|FR'].plot(style='.')\n",
    "plt.xlim(380, 410)\n",
    "plt.grid()"
   ]
  },
  {
   "cell_type": "code",
   "execution_count": 48,
   "id": "d880e2b5",
   "metadata": {},
   "outputs": [
    {
     "data": {
      "image/png": "[encoded data removed]",
      "text/plain": [
       "<Figure size 640x480 with 1 Axes>"
      ]
     },
     "metadata": {},
     "output_type": "display_data"
    }
   ],
   "source": [
    "LoadFR_reduced.plot(style='.')\n",
    "plt.xlim(380, 410)\n",
    "plt.grid()"
   ]
  },
  {
   "cell_type": "code",
   "execution_count": 49,
   "id": "c7d0d360",
   "metadata": {},
   "outputs": [
    {
     "data": {
      "text/html": [
       "<div>\n",
       "<style scoped>\n",
       "    .dataframe tbody tr th:only-of-type {\n",
       "        vertical-align: middle;\n",
       "    }\n",
       "\n",
       "    .dataframe tbody tr th {\n",
       "        vertical-align: top;\n",
       "    }\n",
       "\n",
       "    .dataframe thead th {\n",
       "        text-align: right;\n",
       "    }\n",
       "</style>\n",
       "<table border=\"1\" class=\"dataframe\">\n",
       "  <thead>\n",
       "    <tr style=\"text-align: right;\">\n",
       "      <th></th>\n",
       "      <th>France</th>\n",
       "      <th>Allemagne (+LU)</th>\n",
       "    </tr>\n",
       "  </thead>\n",
       "  <tbody>\n",
       "    <tr>\n",
       "      <th>Consommation totale [GWh]</th>\n",
       "      <td>425429.0</td>\n",
       "      <td>461811.0</td>\n",
       "    </tr>\n",
       "    <tr>\n",
       "      <th>Consommation totale par habitant [kWh]</th>\n",
       "      <td>6279.0</td>\n",
       "      <td>5508.0</td>\n",
       "    </tr>\n",
       "    <tr>\n",
       "      <th>Production totale [GWh]</th>\n",
       "      <td>481831.0</td>\n",
       "      <td>463628.0</td>\n",
       "    </tr>\n",
       "    <tr>\n",
       "      <th>Production totale par habitant [kWh]</th>\n",
       "      <td>7112.0</td>\n",
       "      <td>5530.0</td>\n",
       "    </tr>\n",
       "    <tr>\n",
       "      <th>Temps en sous-production [%]</th>\n",
       "      <td>10.6</td>\n",
       "      <td>52.1</td>\n",
       "    </tr>\n",
       "    <tr>\n",
       "      <th>Temps en sous-production si que renouvelables [%]</th>\n",
       "      <td>99.9</td>\n",
       "      <td>95.5</td>\n",
       "    </tr>\n",
       "    <tr>\n",
       "      <th>Augmentation necessaire des renouvelables solaires et éoliennes pour un temps en sous-production &lt;10% en exclusivement renouvelable [%]</th>\n",
       "      <td>1590.0</td>\n",
       "      <td>600</td>\n",
       "    </tr>\n",
       "    <tr>\n",
       "      <th>Augmentation necessaire des renouvelables solaires et éoliennes pour un temps en sous-production &lt;10% en exclusivement renouvelable - consommation de -10% en cas de sous-production [%]</th>\n",
       "      <td>1400</td>\n",
       "      <td>520.0</td>\n",
       "    </tr>\n",
       "    <tr>\n",
       "      <th>Augmentation necessaire des renouvelables solaires et éoliennes pour un temps en sous-production &lt;10% en exclusivement renouvelable - stockage zero pertes de 100W, 1000Wh /hab [%]</th>\n",
       "      <td>NaN</td>\n",
       "      <td>NaN</td>\n",
       "    </tr>\n",
       "    <tr>\n",
       "      <th>Augmentation necessaire des renouvelables solaires et éoliennes pour un temps en sous-production &lt;10% en exclusivement renouvelable - consommation de -10% en cas de sous-production et stockage zero pertes 100W, 1000Wh /hab [%]</th>\n",
       "      <td>NaN</td>\n",
       "      <td>NaN</td>\n",
       "    </tr>\n",
       "  </tbody>\n",
       "</table>\n",
       "</div>"
      ],
      "text/plain": [
       "                                                      France Allemagne (+LU)\n",
       "Consommation totale [GWh]                           425429.0        461811.0\n",
       "Consommation totale par habitant [kWh]                6279.0          5508.0\n",
       "Production totale [GWh]                             481831.0        463628.0\n",
       "Production totale par habitant [kWh]                  7112.0          5530.0\n",
       "Temps en sous-production [%]                            10.6            52.1\n",
       "Temps en sous-production si que renouvelables [%]       99.9            95.5\n",
       "Augmentation necessaire des renouvelables solai...    1590.0             600\n",
       "Augmentation necessaire des renouvelables solai...      1400           520.0\n",
       "Augmentation necessaire des renouvelables solai...       NaN             NaN\n",
       "Augmentation necessaire des renouvelables solai...       NaN             NaN"
      ]
     },
     "execution_count": 49,
     "metadata": {},
     "output_type": "execute_result"
    }
   ],
   "source": [
    "df ['France'][7]=round((FactorFR)*100,0)\n",
    "df"
   ]
  },
  {
   "cell_type": "markdown",
   "id": "93a20f7a",
   "metadata": {},
   "source": [
    "# Augmentation necessaire des renouvelables solaires et éoliennes pour atteindre moins de 10% de temps de sous-production en exclusivement renouvelable - stockage ideal 100W, 1000Wh /hab"
   ]
  },
  {
   "cell_type": "markdown",
   "id": "6d253489",
   "metadata": {},
   "source": [
    "Pour info:\n",
    "Batterie de vélo electrique: 400Wh\n",
    "Batterie de Dacia Spring: 30kWh"
   ]
  },
  {
   "cell_type": "code",
   "execution_count": 50,
   "id": "3cdcac11",
   "metadata": {},
   "outputs": [
    {
     "name": "stdout",
     "output_type": "stream",
     "text": [
      "Pmax:  8384.0 MW     Emax:  83840.0 MWh\n"
     ]
    }
   ],
   "source": [
    "FactorDE=4.8\n",
    "Pmax=0.0001*habDE\n",
    "Emax=0.001*habDE\n",
    "print('Pmax: ',Pmax,'MW     Emax: ',Emax,'MWh')\n",
    "E=0\n",
    "Estockage = pd.Series()\n",
    "Pstockage = pd.Series()"
   ]
  },
  {
   "cell_type": "code",
   "execution_count": 51,
   "id": "dd2d86d9",
   "metadata": {},
   "outputs": [],
   "source": [
    "SurProdDE=timeProdRenDE+timeProdRenScalableDE*FactorDE - LoadDE['Actual Total Load [MW] - BZN|DE-LU']\n",
    "# Some NaN values may create problem, replace them by zero to fix the bug\n",
    "SurProdDE = [0 if math.isnan(x) else x for x in SurProdDE]"
   ]
  },
  {
   "cell_type": "code",
   "execution_count": 52,
   "id": "55ef8abf",
   "metadata": {},
   "outputs": [],
   "source": [
    "for i,val in enumerate(SurProdDE):\n",
    "    if SurProdDE[i] > 0:\n",
    "        Pstockage[i]=-min(SurProdDE[i], Pmax, Emax-E)\n",
    "        E=E-Pstockage[i]/4\n",
    "    else:\n",
    "        Pstockage[i]=min(-SurProdDE[i], Pmax, E)\n",
    "        E=E-Pstockage[i]/4\n",
    "    Estockage[i]=E\n",
    "    #print(E)\n",
    " #Pstockage"
   ]
  },
  {
   "cell_type": "code",
   "execution_count": 53,
   "id": "012af43d",
   "metadata": {},
   "outputs": [
    {
     "data": {
      "text/plain": [
       "0       -8.384000e+03\n",
       "1       -8.384000e+03\n",
       "2       -8.384000e+03\n",
       "3       -8.384000e+03\n",
       "4       -8.384000e+03\n",
       "             ...     \n",
       "35039   -2.910383e-11\n",
       "35040   -2.910383e-11\n",
       "35041   -2.910383e-11\n",
       "35042   -2.910383e-11\n",
       "35043   -2.910383e-11\n",
       "Length: 35044, dtype: float64"
      ]
     },
     "execution_count": 53,
     "metadata": {},
     "output_type": "execute_result"
    }
   ],
   "source": [
    "Pstockage"
   ]
  },
  {
   "cell_type": "code",
   "execution_count": 54,
   "id": "386157bb",
   "metadata": {},
   "outputs": [
    {
     "data": {
      "text/plain": [
       "9.947494578244493"
      ]
     },
     "execution_count": 54,
     "metadata": {},
     "output_type": "execute_result"
    }
   ],
   "source": [
    "Pstockage=Pstockage+1 #Ajoute 1 pour clarifier l'inégalité ci-dessous\n",
    "timeSousProdRenDE_stockage = timeProdRenDE+timeProdRenScalableDE*FactorDE+Pstockage < LoadDE['Actual Total Load [MW] - BZN|DE-LU']\n",
    "result=sum(timeSousProdRenDE_stockage)/len(ProdDE)*100\n",
    "result"
   ]
  },
  {
   "cell_type": "code",
   "execution_count": 55,
   "id": "f83e6c95",
   "metadata": {},
   "outputs": [
    {
     "data": {
      "text/plain": [
       "0        False\n",
       "1        False\n",
       "2        False\n",
       "3        False\n",
       "4        False\n",
       "         ...  \n",
       "35039    False\n",
       "35040    False\n",
       "35041    False\n",
       "35042    False\n",
       "35043    False\n",
       "Length: 35044, dtype: bool"
      ]
     },
     "execution_count": 55,
     "metadata": {},
     "output_type": "execute_result"
    }
   ],
   "source": [
    "timeSousProdRenDE_stockage"
   ]
  },
  {
   "cell_type": "code",
   "execution_count": 56,
   "id": "6ec86df7",
   "metadata": {},
   "outputs": [
    {
     "data": {
      "text/html": [
       "<div>\n",
       "<style scoped>\n",
       "    .dataframe tbody tr th:only-of-type {\n",
       "        vertical-align: middle;\n",
       "    }\n",
       "\n",
       "    .dataframe tbody tr th {\n",
       "        vertical-align: top;\n",
       "    }\n",
       "\n",
       "    .dataframe thead th {\n",
       "        text-align: right;\n",
       "    }\n",
       "</style>\n",
       "<table border=\"1\" class=\"dataframe\">\n",
       "  <thead>\n",
       "    <tr style=\"text-align: right;\">\n",
       "      <th></th>\n",
       "      <th>France</th>\n",
       "      <th>Allemagne (+LU)</th>\n",
       "    </tr>\n",
       "  </thead>\n",
       "  <tbody>\n",
       "    <tr>\n",
       "      <th>Consommation totale [GWh]</th>\n",
       "      <td>425429.0</td>\n",
       "      <td>461811.0</td>\n",
       "    </tr>\n",
       "    <tr>\n",
       "      <th>Consommation totale par habitant [kWh]</th>\n",
       "      <td>6279.0</td>\n",
       "      <td>5508.0</td>\n",
       "    </tr>\n",
       "    <tr>\n",
       "      <th>Production totale [GWh]</th>\n",
       "      <td>481831.0</td>\n",
       "      <td>463628.0</td>\n",
       "    </tr>\n",
       "    <tr>\n",
       "      <th>Production totale par habitant [kWh]</th>\n",
       "      <td>7112.0</td>\n",
       "      <td>5530.0</td>\n",
       "    </tr>\n",
       "    <tr>\n",
       "      <th>Temps en sous-production [%]</th>\n",
       "      <td>10.6</td>\n",
       "      <td>52.1</td>\n",
       "    </tr>\n",
       "    <tr>\n",
       "      <th>Temps en sous-production si que renouvelables [%]</th>\n",
       "      <td>99.9</td>\n",
       "      <td>95.5</td>\n",
       "    </tr>\n",
       "    <tr>\n",
       "      <th>Augmentation necessaire des renouvelables solaires et éoliennes pour un temps en sous-production &lt;10% en exclusivement renouvelable [%]</th>\n",
       "      <td>1590.0</td>\n",
       "      <td>600</td>\n",
       "    </tr>\n",
       "    <tr>\n",
       "      <th>Augmentation necessaire des renouvelables solaires et éoliennes pour un temps en sous-production &lt;10% en exclusivement renouvelable - consommation de -10% en cas de sous-production [%]</th>\n",
       "      <td>1400</td>\n",
       "      <td>520.0</td>\n",
       "    </tr>\n",
       "    <tr>\n",
       "      <th>Augmentation necessaire des renouvelables solaires et éoliennes pour un temps en sous-production &lt;10% en exclusivement renouvelable - stockage zero pertes de 100W, 1000Wh /hab [%]</th>\n",
       "      <td>NaN</td>\n",
       "      <td>480.0</td>\n",
       "    </tr>\n",
       "    <tr>\n",
       "      <th>Augmentation necessaire des renouvelables solaires et éoliennes pour un temps en sous-production &lt;10% en exclusivement renouvelable - consommation de -10% en cas de sous-production et stockage zero pertes 100W, 1000Wh /hab [%]</th>\n",
       "      <td>NaN</td>\n",
       "      <td>NaN</td>\n",
       "    </tr>\n",
       "  </tbody>\n",
       "</table>\n",
       "</div>"
      ],
      "text/plain": [
       "                                                      France Allemagne (+LU)\n",
       "Consommation totale [GWh]                           425429.0        461811.0\n",
       "Consommation totale par habitant [kWh]                6279.0          5508.0\n",
       "Production totale [GWh]                             481831.0        463628.0\n",
       "Production totale par habitant [kWh]                  7112.0          5530.0\n",
       "Temps en sous-production [%]                            10.6            52.1\n",
       "Temps en sous-production si que renouvelables [%]       99.9            95.5\n",
       "Augmentation necessaire des renouvelables solai...    1590.0             600\n",
       "Augmentation necessaire des renouvelables solai...      1400           520.0\n",
       "Augmentation necessaire des renouvelables solai...       NaN           480.0\n",
       "Augmentation necessaire des renouvelables solai...       NaN             NaN"
      ]
     },
     "execution_count": 56,
     "metadata": {},
     "output_type": "execute_result"
    }
   ],
   "source": [
    "df ['Allemagne (+LU)'][8]=round((FactorDE)*100,0)\n",
    "df"
   ]
  },
  {
   "cell_type": "code",
   "execution_count": 57,
   "id": "0cb54845",
   "metadata": {},
   "outputs": [
    {
     "name": "stdout",
     "output_type": "stream",
     "text": [
      "Pmax:  6775.0 MW     Emax:  67750.0 MWh\n"
     ]
    }
   ],
   "source": [
    "FactorFR=13.6\n",
    "Pmax=0.0001*habFR\n",
    "Emax=0.0010*habFR\n",
    "print('Pmax: ',Pmax,'MW     Emax: ',Emax,'MWh')\n",
    "E=0\n",
    "Estockage = pd.Series()\n",
    "Pstockage = pd.Series()"
   ]
  },
  {
   "cell_type": "code",
   "execution_count": 58,
   "id": "1a16beba",
   "metadata": {},
   "outputs": [],
   "source": [
    "SurProdFR=timeProdRenFR+timeProdRenScalableFR*FactorFR - LoadFR['Actual Total Load [MW] - BZN|FR']\n",
    "# Some NaN values may create problem, replace them by zero to fix the bug\n",
    "SurProdFR = [0 if math.isnan(x) else x for x in SurProdFR]"
   ]
  },
  {
   "cell_type": "code",
   "execution_count": 59,
   "id": "7943a130",
   "metadata": {},
   "outputs": [],
   "source": [
    "for i,val in enumerate(SurProdFR):\n",
    "    if SurProdFR[i] > 0:\n",
    "        Pstockage[i]=-min(SurProdFR[i], Pmax, Emax-E)\n",
    "        E=E-Pstockage[i]\n",
    "    else:\n",
    "        Pstockage[i]=min(-SurProdFR[i], Pmax, E)\n",
    "        E=E-Pstockage[i]\n",
    "    Estockage[i]=E\n",
    "    #print(E)\n",
    " #Pstockage"
   ]
  },
  {
   "cell_type": "code",
   "execution_count": 60,
   "id": "f3430648",
   "metadata": {},
   "outputs": [
    {
     "data": {
      "text/plain": [
       "<function list.index(value, start=0, stop=9223372036854775807, /)>"
      ]
     },
     "execution_count": 60,
     "metadata": {},
     "output_type": "execute_result"
    }
   ],
   "source": [
    "SurProdFR.index"
   ]
  },
  {
   "cell_type": "code",
   "execution_count": 61,
   "id": "04e80cea",
   "metadata": {},
   "outputs": [
    {
     "data": {
      "image/png": "[encoded data removed]",
      "text/plain": [
       "<Figure size 640x480 with 1 Axes>"
      ]
     },
     "metadata": {},
     "output_type": "display_data"
    }
   ],
   "source": [
    "plt.scatter(range(len(SurProdFR)),SurProdFR)\n",
    "plt.xlim(380, 410)\n",
    "plt.grid()\n",
    "plt.show()"
   ]
  },
  {
   "cell_type": "code",
   "execution_count": 62,
   "id": "70dc1414",
   "metadata": {},
   "outputs": [
    {
     "data": {
      "image/png": "[encoded data removed]",
      "text/plain": [
       "<Figure size 640x480 with 1 Axes>"
      ]
     },
     "metadata": {},
     "output_type": "display_data"
    }
   ],
   "source": [
    "Pstockage.plot(style='.')\n",
    "plt.xlim(380, 410)\n",
    "plt.grid()"
   ]
  },
  {
   "cell_type": "code",
   "execution_count": 63,
   "id": "1d3ef47f",
   "metadata": {},
   "outputs": [
    {
     "data": {
      "text/plain": [
       "(380.0, 410.0)"
      ]
     },
     "execution_count": 63,
     "metadata": {},
     "output_type": "execute_result"
    },
    {
     "data": {
      "image/png": "[encoded data removed]",
      "text/plain": [
       "<Figure size 640x480 with 1 Axes>"
      ]
     },
     "metadata": {},
     "output_type": "display_data"
    }
   ],
   "source": [
    "Estockage.plot(style='.')\n",
    "plt.xlim(380, 410)"
   ]
  },
  {
   "cell_type": "code",
   "execution_count": 64,
   "id": "1c108092",
   "metadata": {},
   "outputs": [
    {
     "data": {
      "text/plain": [
       "9.998858577787924"
      ]
     },
     "execution_count": 64,
     "metadata": {},
     "output_type": "execute_result"
    }
   ],
   "source": [
    "Pstockage=Pstockage+1 #Ajoute 1 pour clarifier l'inégalité ci-dessous\n",
    "timeSousProdRenFR_stockage = timeProdRenFR+timeProdRenScalableFR*FactorFR+Pstockage < LoadFR['Actual Total Load [MW] - BZN|FR']\n",
    "result=sum(timeSousProdRenFR_stockage)/len(ProdFR)*100\n",
    "result"
   ]
  },
  {
   "cell_type": "code",
   "execution_count": 65,
   "id": "5c85a6be",
   "metadata": {},
   "outputs": [
    {
     "data": {
      "text/plain": [
       "(380.0, 410.0)"
      ]
     },
     "execution_count": 65,
     "metadata": {},
     "output_type": "execute_result"
    },
    {
     "data": {
      "image/png": "[encoded data removed]",
      "text/plain": [
       "<Figure size 640x480 with 1 Axes>"
      ]
     },
     "metadata": {},
     "output_type": "display_data"
    }
   ],
   "source": [
    "SousProdRenFR_stockage = timeProdRenFR+timeProdRenScalableFR*FactorFR+Pstockage - LoadFR['Actual Total Load [MW] - BZN|FR']\n",
    "SousProdRenFR_stockage.plot(style='.')\n",
    "plt.xlim(380, 410)"
   ]
  },
  {
   "cell_type": "code",
   "execution_count": 66,
   "id": "dc9232ed",
   "metadata": {},
   "outputs": [
    {
     "data": {
      "text/plain": [
       "pandas.core.series.Series"
      ]
     },
     "execution_count": 66,
     "metadata": {},
     "output_type": "execute_result"
    }
   ],
   "source": [
    "type(SousProdRenFR_stockage)"
   ]
  },
  {
   "cell_type": "code",
   "execution_count": 67,
   "id": "6cb40ed7",
   "metadata": {},
   "outputs": [
    {
     "data": {
      "text/plain": [
       "(380.0, 410.0)"
      ]
     },
     "execution_count": 67,
     "metadata": {},
     "output_type": "execute_result"
    },
    {
     "data": {
      "image/png": "[encoded data removed]",
      "text/plain": [
       "<Figure size 640x480 with 1 Axes>"
      ]
     },
     "metadata": {},
     "output_type": "display_data"
    }
   ],
   "source": [
    "import matplotlib.pyplot as plt\n",
    "timeSousProdRenFR_stockage.astype(int).plot(style='.')\n",
    "plt.xlim(380, 410)"
   ]
  },
  {
   "cell_type": "code",
   "execution_count": 68,
   "id": "432604c6",
   "metadata": {},
   "outputs": [
    {
     "data": {
      "text/html": [
       "<div>\n",
       "<style scoped>\n",
       "    .dataframe tbody tr th:only-of-type {\n",
       "        vertical-align: middle;\n",
       "    }\n",
       "\n",
       "    .dataframe tbody tr th {\n",
       "        vertical-align: top;\n",
       "    }\n",
       "\n",
       "    .dataframe thead th {\n",
       "        text-align: right;\n",
       "    }\n",
       "</style>\n",
       "<table border=\"1\" class=\"dataframe\">\n",
       "  <thead>\n",
       "    <tr style=\"text-align: right;\">\n",
       "      <th></th>\n",
       "      <th>France</th>\n",
       "      <th>Allemagne (+LU)</th>\n",
       "    </tr>\n",
       "  </thead>\n",
       "  <tbody>\n",
       "    <tr>\n",
       "      <th>Consommation totale [GWh]</th>\n",
       "      <td>425429.0</td>\n",
       "      <td>461811.0</td>\n",
       "    </tr>\n",
       "    <tr>\n",
       "      <th>Consommation totale par habitant [kWh]</th>\n",
       "      <td>6279.0</td>\n",
       "      <td>5508.0</td>\n",
       "    </tr>\n",
       "    <tr>\n",
       "      <th>Production totale [GWh]</th>\n",
       "      <td>481831.0</td>\n",
       "      <td>463628.0</td>\n",
       "    </tr>\n",
       "    <tr>\n",
       "      <th>Production totale par habitant [kWh]</th>\n",
       "      <td>7112.0</td>\n",
       "      <td>5530.0</td>\n",
       "    </tr>\n",
       "    <tr>\n",
       "      <th>Temps en sous-production [%]</th>\n",
       "      <td>10.6</td>\n",
       "      <td>52.1</td>\n",
       "    </tr>\n",
       "    <tr>\n",
       "      <th>Temps en sous-production si que renouvelables [%]</th>\n",
       "      <td>99.9</td>\n",
       "      <td>95.5</td>\n",
       "    </tr>\n",
       "    <tr>\n",
       "      <th>Augmentation necessaire des renouvelables solaires et éoliennes pour un temps en sous-production &lt;10% en exclusivement renouvelable [%]</th>\n",
       "      <td>1590.0</td>\n",
       "      <td>600</td>\n",
       "    </tr>\n",
       "    <tr>\n",
       "      <th>Augmentation necessaire des renouvelables solaires et éoliennes pour un temps en sous-production &lt;10% en exclusivement renouvelable - consommation de -10% en cas de sous-production [%]</th>\n",
       "      <td>1400</td>\n",
       "      <td>520.0</td>\n",
       "    </tr>\n",
       "    <tr>\n",
       "      <th>Augmentation necessaire des renouvelables solaires et éoliennes pour un temps en sous-production &lt;10% en exclusivement renouvelable - stockage zero pertes de 100W, 1000Wh /hab [%]</th>\n",
       "      <td>1360.0</td>\n",
       "      <td>480.0</td>\n",
       "    </tr>\n",
       "    <tr>\n",
       "      <th>Augmentation necessaire des renouvelables solaires et éoliennes pour un temps en sous-production &lt;10% en exclusivement renouvelable - consommation de -10% en cas de sous-production et stockage zero pertes 100W, 1000Wh /hab [%]</th>\n",
       "      <td>NaN</td>\n",
       "      <td>NaN</td>\n",
       "    </tr>\n",
       "  </tbody>\n",
       "</table>\n",
       "</div>"
      ],
      "text/plain": [
       "                                                      France Allemagne (+LU)\n",
       "Consommation totale [GWh]                           425429.0        461811.0\n",
       "Consommation totale par habitant [kWh]                6279.0          5508.0\n",
       "Production totale [GWh]                             481831.0        463628.0\n",
       "Production totale par habitant [kWh]                  7112.0          5530.0\n",
       "Temps en sous-production [%]                            10.6            52.1\n",
       "Temps en sous-production si que renouvelables [%]       99.9            95.5\n",
       "Augmentation necessaire des renouvelables solai...    1590.0             600\n",
       "Augmentation necessaire des renouvelables solai...      1400           520.0\n",
       "Augmentation necessaire des renouvelables solai...    1360.0           480.0\n",
       "Augmentation necessaire des renouvelables solai...       NaN             NaN"
      ]
     },
     "execution_count": 68,
     "metadata": {},
     "output_type": "execute_result"
    }
   ],
   "source": [
    "df ['France'][8]=round((FactorFR)*100,0)\n",
    "df"
   ]
  },
  {
   "cell_type": "markdown",
   "id": "5367a48f",
   "metadata": {},
   "source": [
    "# Augmentation necessaire des renouvelables solaires et éoliennes pour atteindre moins de 10% de temps de sous-production en exclusivement renouvelable - consommation de -10% en sous-production et stockage ideal 100W, 1000Wh /hab"
   ]
  },
  {
   "cell_type": "code",
   "execution_count": 69,
   "id": "a4963922",
   "metadata": {},
   "outputs": [
    {
     "name": "stdout",
     "output_type": "stream",
     "text": [
      "Pmax:  8320.0 MW     Emax:  83200.0 MWh\n"
     ]
    }
   ],
   "source": [
    "FactorDE=4.1\n",
    "habDE=83.2e6\n",
    "Pmax=0.0001*habDE\n",
    "Emax=0.001*habDE\n",
    "print('Pmax: ',Pmax,'MW     Emax: ',Emax,'MWh')\n",
    "E=0\n",
    "Estockage = pd.Series()\n",
    "Pstockage = pd.Series()"
   ]
  },
  {
   "cell_type": "code",
   "execution_count": 70,
   "id": "bd8bc97f",
   "metadata": {},
   "outputs": [],
   "source": [
    "SurProdDE=timeProdRenDE+timeProdRenScalableDE*FactorDE - LoadDE['Actual Total Load [MW] - BZN|DE-LU']\n",
    "# Some NaN values may create problem, replace them by zero to fix the bug\n",
    "SurProdDE = [0 if math.isnan(x) else x for x in SurProdDE]"
   ]
  },
  {
   "cell_type": "code",
   "execution_count": 71,
   "id": "fe5ddefa",
   "metadata": {},
   "outputs": [],
   "source": [
    "for i,val in enumerate(SurProdDE):\n",
    "    if SurProdDE[i] > 0:\n",
    "        Pstockage[i]=-min(SurProdDE[i], Pmax, Emax-E)\n",
    "        E=E-Pstockage[i]/4\n",
    "    else:\n",
    "        Pstockage[i]=min(-SurProdDE[i], Pmax, E)\n",
    "        E=E-Pstockage[i]/4\n",
    "    Estockage[i]=E\n",
    "    #print(E)\n",
    " #Pstockage"
   ]
  },
  {
   "cell_type": "code",
   "execution_count": 72,
   "id": "ea0799f6",
   "metadata": {},
   "outputs": [
    {
     "data": {
      "text/plain": [
       "9.833352357036867"
      ]
     },
     "execution_count": 72,
     "metadata": {},
     "output_type": "execute_result"
    }
   ],
   "source": [
    "Pstockage=Pstockage+1 #Ajoute 1 pour clarifier l'inégalité ci-dessous\n",
    "timeSousProdRenDE_stockage_temp = timeProdRenDE+timeProdRenScalableDE*FactorDE+Pstockage < LoadDE['Actual Total Load [MW] - BZN|DE-LU']\n",
    "sum(timeSousProdRenDE_temp.astype(int))\n",
    "LoadDE_reduced=LoadDE['Actual Total Load [MW] - BZN|DE-LU'].mul(0.9*timeSousProdRenDE_stockage_temp.astype(int), axis=0)+LoadDE['Actual Total Load [MW] - BZN|DE-LU'].mul(1-timeSousProdRenDE_stockage_temp.astype(int), axis=0)\n",
    "timeSousProdRenDE_Stockage_LoadReduction = timeProdRenDE+timeProdRenScalableDE*FactorDE+Pstockage < LoadDE_reduced\n",
    "\n",
    "\n",
    "result=sum(timeSousProdRenDE_Stockage_LoadReduction)/len(ProdDE)*100\n",
    "result"
   ]
  },
  {
   "cell_type": "code",
   "execution_count": 73,
   "id": "c72f7c1f",
   "metadata": {},
   "outputs": [
    {
     "data": {
      "text/html": [
       "<div>\n",
       "<style scoped>\n",
       "    .dataframe tbody tr th:only-of-type {\n",
       "        vertical-align: middle;\n",
       "    }\n",
       "\n",
       "    .dataframe tbody tr th {\n",
       "        vertical-align: top;\n",
       "    }\n",
       "\n",
       "    .dataframe thead th {\n",
       "        text-align: right;\n",
       "    }\n",
       "</style>\n",
       "<table border=\"1\" class=\"dataframe\">\n",
       "  <thead>\n",
       "    <tr style=\"text-align: right;\">\n",
       "      <th></th>\n",
       "      <th>France</th>\n",
       "      <th>Allemagne (+LU)</th>\n",
       "    </tr>\n",
       "  </thead>\n",
       "  <tbody>\n",
       "    <tr>\n",
       "      <th>Consommation totale [GWh]</th>\n",
       "      <td>425429.0</td>\n",
       "      <td>461811.0</td>\n",
       "    </tr>\n",
       "    <tr>\n",
       "      <th>Consommation totale par habitant [kWh]</th>\n",
       "      <td>6279.0</td>\n",
       "      <td>5508.0</td>\n",
       "    </tr>\n",
       "    <tr>\n",
       "      <th>Production totale [GWh]</th>\n",
       "      <td>481831.0</td>\n",
       "      <td>463628.0</td>\n",
       "    </tr>\n",
       "    <tr>\n",
       "      <th>Production totale par habitant [kWh]</th>\n",
       "      <td>7112.0</td>\n",
       "      <td>5530.0</td>\n",
       "    </tr>\n",
       "    <tr>\n",
       "      <th>Temps en sous-production [%]</th>\n",
       "      <td>10.6</td>\n",
       "      <td>52.1</td>\n",
       "    </tr>\n",
       "    <tr>\n",
       "      <th>Temps en sous-production si que renouvelables [%]</th>\n",
       "      <td>99.9</td>\n",
       "      <td>95.5</td>\n",
       "    </tr>\n",
       "    <tr>\n",
       "      <th>Augmentation necessaire des renouvelables solaires et éoliennes pour un temps en sous-production &lt;10% en exclusivement renouvelable [%]</th>\n",
       "      <td>1590.0</td>\n",
       "      <td>600</td>\n",
       "    </tr>\n",
       "    <tr>\n",
       "      <th>Augmentation necessaire des renouvelables solaires et éoliennes pour un temps en sous-production &lt;10% en exclusivement renouvelable - consommation de -10% en cas de sous-production [%]</th>\n",
       "      <td>1400</td>\n",
       "      <td>520.0</td>\n",
       "    </tr>\n",
       "    <tr>\n",
       "      <th>Augmentation necessaire des renouvelables solaires et éoliennes pour un temps en sous-production &lt;10% en exclusivement renouvelable - stockage zero pertes de 100W, 1000Wh /hab [%]</th>\n",
       "      <td>1360.0</td>\n",
       "      <td>480.0</td>\n",
       "    </tr>\n",
       "    <tr>\n",
       "      <th>Augmentation necessaire des renouvelables solaires et éoliennes pour un temps en sous-production &lt;10% en exclusivement renouvelable - consommation de -10% en cas de sous-production et stockage zero pertes 100W, 1000Wh /hab [%]</th>\n",
       "      <td>NaN</td>\n",
       "      <td>410.0</td>\n",
       "    </tr>\n",
       "  </tbody>\n",
       "</table>\n",
       "</div>"
      ],
      "text/plain": [
       "                                                      France Allemagne (+LU)\n",
       "Consommation totale [GWh]                           425429.0        461811.0\n",
       "Consommation totale par habitant [kWh]                6279.0          5508.0\n",
       "Production totale [GWh]                             481831.0        463628.0\n",
       "Production totale par habitant [kWh]                  7112.0          5530.0\n",
       "Temps en sous-production [%]                            10.6            52.1\n",
       "Temps en sous-production si que renouvelables [%]       99.9            95.5\n",
       "Augmentation necessaire des renouvelables solai...    1590.0             600\n",
       "Augmentation necessaire des renouvelables solai...      1400           520.0\n",
       "Augmentation necessaire des renouvelables solai...    1360.0           480.0\n",
       "Augmentation necessaire des renouvelables solai...       NaN           410.0"
      ]
     },
     "execution_count": 73,
     "metadata": {},
     "output_type": "execute_result"
    }
   ],
   "source": [
    "df ['Allemagne (+LU)'][9]=round((FactorDE)*100,0)\n",
    "df"
   ]
  },
  {
   "cell_type": "code",
   "execution_count": 74,
   "id": "01efb2fb",
   "metadata": {},
   "outputs": [],
   "source": [
    "FactorFR=11.8\n",
    "Pmax=0.0001*habFR\n",
    "Emax=0.0010*habFR\n",
    "E=0\n",
    "Estockage = pd.Series()\n",
    "Pstockage = pd.Series()"
   ]
  },
  {
   "cell_type": "code",
   "execution_count": 75,
   "id": "ec7341b2",
   "metadata": {},
   "outputs": [],
   "source": [
    "SurProdFR=timeProdRenFR+timeProdRenScalableFR*FactorFR - LoadFR['Actual Total Load [MW] - BZN|FR']\n",
    "# Some NaN values may create problem, replace them by zero to fix the bug\n",
    "SurProdFR = [0 if math.isnan(x) else x for x in SurProdFR]"
   ]
  },
  {
   "cell_type": "code",
   "execution_count": 76,
   "id": "3a740751",
   "metadata": {},
   "outputs": [],
   "source": [
    "for i,val in enumerate(SurProdFR):\n",
    "    if SurProdFR[i] > 0:\n",
    "        Pstockage[i]=-min(SurProdFR[i], Pmax, Emax-E)\n",
    "        E=E-Pstockage[i]\n",
    "    else:\n",
    "        Pstockage[i]=min(-SurProdFR[i], Pmax, E)\n",
    "        E=E-Pstockage[i]\n",
    "    Estockage[i]=E\n",
    "    #print(E)\n",
    " #Pstockage"
   ]
  },
  {
   "cell_type": "code",
   "execution_count": 77,
   "id": "83a16c56",
   "metadata": {},
   "outputs": [
    {
     "data": {
      "text/plain": [
       "9.907544800821825"
      ]
     },
     "execution_count": 77,
     "metadata": {},
     "output_type": "execute_result"
    }
   ],
   "source": [
    "Pstockage=Pstockage+1 #Ajoute 1 pour clarifier l'inégalité ci-dessous\n",
    "timeSousProdRenFR_stockage_temp = timeProdRenFR+timeProdRenScalableFR*FactorFR+Pstockage < LoadFR['Actual Total Load [MW] - BZN|FR']\n",
    "sum(timeSousProdRenFR_temp.astype(int))\n",
    "LoadFR_reduced=LoadFR['Actual Total Load [MW] - BZN|FR'].mul(0.9*timeSousProdRenFR_stockage_temp.astype(int), axis=0)+LoadFR['Actual Total Load [MW] - BZN|FR'].mul(1-timeSousProdRenFR_stockage_temp.astype(int), axis=0)\n",
    "timeSousProdRenFR_Stockage_LoadReduction = timeProdRenFR+timeProdRenScalableFR*FactorFR+Pstockage < LoadFR_reduced\n",
    "\n",
    "\n",
    "result=sum(timeSousProdRenFR_Stockage_LoadReduction)/len(ProdFR)*100\n",
    "result"
   ]
  },
  {
   "cell_type": "code",
   "execution_count": 78,
   "id": "0ad51538",
   "metadata": {},
   "outputs": [
    {
     "data": {
      "text/html": [
       "<div>\n",
       "<style scoped>\n",
       "    .dataframe tbody tr th:only-of-type {\n",
       "        vertical-align: middle;\n",
       "    }\n",
       "\n",
       "    .dataframe tbody tr th {\n",
       "        vertical-align: top;\n",
       "    }\n",
       "\n",
       "    .dataframe thead th {\n",
       "        text-align: right;\n",
       "    }\n",
       "</style>\n",
       "<table border=\"1\" class=\"dataframe\">\n",
       "  <thead>\n",
       "    <tr style=\"text-align: right;\">\n",
       "      <th></th>\n",
       "      <th>France</th>\n",
       "      <th>Allemagne (+LU)</th>\n",
       "    </tr>\n",
       "  </thead>\n",
       "  <tbody>\n",
       "    <tr>\n",
       "      <th>Consommation totale [GWh]</th>\n",
       "      <td>425429.0</td>\n",
       "      <td>461811.0</td>\n",
       "    </tr>\n",
       "    <tr>\n",
       "      <th>Consommation totale par habitant [kWh]</th>\n",
       "      <td>6279.0</td>\n",
       "      <td>5508.0</td>\n",
       "    </tr>\n",
       "    <tr>\n",
       "      <th>Production totale [GWh]</th>\n",
       "      <td>481831.0</td>\n",
       "      <td>463628.0</td>\n",
       "    </tr>\n",
       "    <tr>\n",
       "      <th>Production totale par habitant [kWh]</th>\n",
       "      <td>7112.0</td>\n",
       "      <td>5530.0</td>\n",
       "    </tr>\n",
       "    <tr>\n",
       "      <th>Temps en sous-production [%]</th>\n",
       "      <td>10.6</td>\n",
       "      <td>52.1</td>\n",
       "    </tr>\n",
       "    <tr>\n",
       "      <th>Temps en sous-production si que renouvelables [%]</th>\n",
       "      <td>99.9</td>\n",
       "      <td>95.5</td>\n",
       "    </tr>\n",
       "    <tr>\n",
       "      <th>Augmentation necessaire des renouvelables solaires et éoliennes pour un temps en sous-production &lt;10% en exclusivement renouvelable [%]</th>\n",
       "      <td>1590.0</td>\n",
       "      <td>600</td>\n",
       "    </tr>\n",
       "    <tr>\n",
       "      <th>Augmentation necessaire des renouvelables solaires et éoliennes pour un temps en sous-production &lt;10% en exclusivement renouvelable - consommation de -10% en cas de sous-production [%]</th>\n",
       "      <td>1400</td>\n",
       "      <td>520.0</td>\n",
       "    </tr>\n",
       "    <tr>\n",
       "      <th>Augmentation necessaire des renouvelables solaires et éoliennes pour un temps en sous-production &lt;10% en exclusivement renouvelable - stockage zero pertes de 100W, 1000Wh /hab [%]</th>\n",
       "      <td>1360.0</td>\n",
       "      <td>480.0</td>\n",
       "    </tr>\n",
       "    <tr>\n",
       "      <th>Augmentation necessaire des renouvelables solaires et éoliennes pour un temps en sous-production &lt;10% en exclusivement renouvelable - consommation de -10% en cas de sous-production et stockage zero pertes 100W, 1000Wh /hab [%]</th>\n",
       "      <td>1180.0</td>\n",
       "      <td>410.0</td>\n",
       "    </tr>\n",
       "  </tbody>\n",
       "</table>\n",
       "</div>"
      ],
      "text/plain": [
       "                                                      France Allemagne (+LU)\n",
       "Consommation totale [GWh]                           425429.0        461811.0\n",
       "Consommation totale par habitant [kWh]                6279.0          5508.0\n",
       "Production totale [GWh]                             481831.0        463628.0\n",
       "Production totale par habitant [kWh]                  7112.0          5530.0\n",
       "Temps en sous-production [%]                            10.6            52.1\n",
       "Temps en sous-production si que renouvelables [%]       99.9            95.5\n",
       "Augmentation necessaire des renouvelables solai...    1590.0             600\n",
       "Augmentation necessaire des renouvelables solai...      1400           520.0\n",
       "Augmentation necessaire des renouvelables solai...    1360.0           480.0\n",
       "Augmentation necessaire des renouvelables solai...    1180.0           410.0"
      ]
     },
     "execution_count": 78,
     "metadata": {},
     "output_type": "execute_result"
    }
   ],
   "source": [
    "df ['France'][9]=round((FactorFR)*100,0)\n",
    "df"
   ]
  },
  {
   "cell_type": "code",
   "execution_count": 79,
   "id": "867eae99",
   "metadata": {},
   "outputs": [
    {
     "data": {
      "text/html": [
       "<div>\n",
       "<style scoped>\n",
       "    .dataframe tbody tr th:only-of-type {\n",
       "        vertical-align: middle;\n",
       "    }\n",
       "\n",
       "    .dataframe tbody tr th {\n",
       "        vertical-align: top;\n",
       "    }\n",
       "\n",
       "    .dataframe thead th {\n",
       "        text-align: right;\n",
       "    }\n",
       "</style>\n",
       "<table border=\"1\" class=\"dataframe\">\n",
       "  <thead>\n",
       "    <tr style=\"text-align: right;\">\n",
       "      <th></th>\n",
       "      <th>France</th>\n",
       "      <th>Allemagne (+LU)</th>\n",
       "    </tr>\n",
       "  </thead>\n",
       "  <tbody>\n",
       "    <tr>\n",
       "      <th>Consommation totale [GWh]</th>\n",
       "      <td>425429.0</td>\n",
       "      <td>461811.0</td>\n",
       "    </tr>\n",
       "    <tr>\n",
       "      <th>Consommation totale par habitant [kWh]</th>\n",
       "      <td>6279.0</td>\n",
       "      <td>5508.0</td>\n",
       "    </tr>\n",
       "    <tr>\n",
       "      <th>Production totale [GWh]</th>\n",
       "      <td>481831.0</td>\n",
       "      <td>463628.0</td>\n",
       "    </tr>\n",
       "    <tr>\n",
       "      <th>Production totale par habitant [kWh]</th>\n",
       "      <td>7112.0</td>\n",
       "      <td>5530.0</td>\n",
       "    </tr>\n",
       "    <tr>\n",
       "      <th>Temps en sous-production [%]</th>\n",
       "      <td>10.6</td>\n",
       "      <td>52.1</td>\n",
       "    </tr>\n",
       "    <tr>\n",
       "      <th>Temps en sous-production si que renouvelables [%]</th>\n",
       "      <td>99.9</td>\n",
       "      <td>95.5</td>\n",
       "    </tr>\n",
       "    <tr>\n",
       "      <th>Augmentation necessaire des renouvelables solaires et éoliennes pour un temps en sous-production &lt;10% en exclusivement renouvelable [%]</th>\n",
       "      <td>1590.0</td>\n",
       "      <td>600</td>\n",
       "    </tr>\n",
       "    <tr>\n",
       "      <th>Augmentation necessaire des renouvelables solaires et éoliennes pour un temps en sous-production &lt;10% en exclusivement renouvelable - consommation de -10% en cas de sous-production [%]</th>\n",
       "      <td>1400</td>\n",
       "      <td>520.0</td>\n",
       "    </tr>\n",
       "    <tr>\n",
       "      <th>Augmentation necessaire des renouvelables solaires et éoliennes pour un temps en sous-production &lt;10% en exclusivement renouvelable - stockage zero pertes de 100W, 1000Wh /hab [%]</th>\n",
       "      <td>1360.0</td>\n",
       "      <td>480.0</td>\n",
       "    </tr>\n",
       "    <tr>\n",
       "      <th>Augmentation necessaire des renouvelables solaires et éoliennes pour un temps en sous-production &lt;10% en exclusivement renouvelable - consommation de -10% en cas de sous-production et stockage zero pertes 100W, 1000Wh /hab [%]</th>\n",
       "      <td>1180.0</td>\n",
       "      <td>410.0</td>\n",
       "    </tr>\n",
       "  </tbody>\n",
       "</table>\n",
       "</div>"
      ],
      "text/plain": [
       "                                                      France Allemagne (+LU)\n",
       "Consommation totale [GWh]                           425429.0        461811.0\n",
       "Consommation totale par habitant [kWh]                6279.0          5508.0\n",
       "Production totale [GWh]                             481831.0        463628.0\n",
       "Production totale par habitant [kWh]                  7112.0          5530.0\n",
       "Temps en sous-production [%]                            10.6            52.1\n",
       "Temps en sous-production si que renouvelables [%]       99.9            95.5\n",
       "Augmentation necessaire des renouvelables solai...    1590.0             600\n",
       "Augmentation necessaire des renouvelables solai...      1400           520.0\n",
       "Augmentation necessaire des renouvelables solai...    1360.0           480.0\n",
       "Augmentation necessaire des renouvelables solai...    1180.0           410.0"
      ]
     },
     "execution_count": 79,
     "metadata": {},
     "output_type": "execute_result"
    }
   ],
   "source": [
    "df"
   ]
  },
  {
   "cell_type": "code",
   "execution_count": 81,
   "id": "b679dca9",
   "metadata": {},
   "outputs": [],
   "source": [
    "df.to_csv('resultTable.csv')"
   ]
  },
  {
   "cell_type": "code",
   "execution_count": null,
   "id": "08809c5b",
   "metadata": {},
   "outputs": [],
   "source": []
  }
 ],
 "metadata": {
  "kernelspec": {
   "display_name": "Python 3 (ipykernel)",
   "language": "python",
   "name": "python3"
  },
  "language_info": {
   "codemirror_mode": {
    "name": "ipython",
    "version": 3
   },
   "file_extension": ".py",
   "mimetype": "text/x-python",
   "name": "python",
   "nbconvert_exporter": "python",
   "pygments_lexer": "ipython3",
   "version": "3.11.5"
  }
 },
 "nbformat": 4,
 "nbformat_minor": 5
}
